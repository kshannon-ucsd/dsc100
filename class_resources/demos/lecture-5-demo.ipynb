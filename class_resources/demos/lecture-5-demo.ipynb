{
  "cells": [
    {
      "cell_type": "markdown",
      "metadata": {
        "id": "1_Svq2yxaKXv"
      },
      "source": [
        "# SQL Joins Demo - lecture 5\n",
        "\n",
        "\n",
        "Jupyter/IPython notebooks can be used for an interactive data analysis with SQL on a relational database. This fuses together the advantages of using Jupyter, a well-established platform for data analysis, with the ease of use of SQL and the performance of SQL engines.\n",
        "\n",
        "\n",
        "\n",
        "\n",
        "Useful links:\n",
        "https://www.geeksforgeeks.org/how-to-install-ipython-sql-package-in-jupyter-notebook/\n",
        "\n",
        "\n"
      ]
    },
    {
      "cell_type": "code",
      "execution_count": null,
      "metadata": {
        "colab": {
          "base_uri": "https://localhost:8080/"
        },
        "id": "kPOXx8mrremz",
        "outputId": "342a4e51-4cd9-4560-f35f-4cd028f2b5fe"
      },
      "outputs": [
        {
          "name": "stdout",
          "output_type": "stream",
          "text": [
            "  key  value_x  value_y     _merge\n",
            "0   A        1      NaN  left_only\n",
            "1   B        2      5.0       both\n",
            "2   C        3      NaN  left_only\n",
            "3   D        4      6.0       both\n"
          ]
        }
      ],
      "source": [
        "import pandas as pd\n",
        "\n",
        "# Create two dataframes to be joined\n",
        "df1 = pd.DataFrame({'key': ['A', 'B', 'C', 'D'],\n",
        "                    'value': [1, 2, 3, 4]})\n",
        "\n",
        "df2 = pd.DataFrame({'key': ['B', 'D', 'E', 'F'],\n",
        "                    'value': [5, 6, 7, 8]})\n",
        "\n",
        "# Perform a left join using the key column\n",
        "result = pd.merge(df1, df2, on='key', how='left', indicator=True)\n",
        "\n",
        "print(result)\n"
      ]
    },
    {
      "cell_type": "markdown",
      "metadata": {
        "id": "VmmLcAJrbyEW"
      },
      "source": [
        "If you are not using Colab, you will have to install ipython-sql using the following command:"
      ]
    },
    {
      "cell_type": "code",
      "execution_count": null,
      "metadata": {
        "id": "IrrxAH5AbbwU"
      },
      "outputs": [],
      "source": [
        "#pip install ipython-sql"
      ]
    },
    {
      "cell_type": "markdown",
      "metadata": {
        "id": "AVL4zzGBdZQT"
      },
      "source": [
        "Use %load_ext sql. to load the SQL module in the notebook. Now, with the use of %sql magic, you can use SQL queries directly in Jupyter Notebook. Using ipython-sql in Jupyter Notebook"
      ]
    },
    {
      "cell_type": "code",
      "execution_count": null,
      "metadata": {
        "colab": {
          "base_uri": "https://localhost:8080/"
        },
        "id": "89hE9U-vc7Xy",
        "outputId": "165c589e-1f5c-4370-f64f-c14d1f4052ea"
      },
      "outputs": [
        {
          "name": "stdout",
          "output_type": "stream",
          "text": [
            "The sql extension is already loaded. To reload it, use:\n",
            "  %reload_ext sql\n"
          ]
        }
      ],
      "source": [
        "%load_ext sql"
      ]
    },
    {
      "cell_type": "markdown",
      "metadata": {
        "id": "aliFAdzdd5Zo"
      },
      "source": [
        "Once you have loaded the sql extension, you can interact with it after initializing connection to SQLite. If you are on your own Jupyter installation not on Colab, you will have to install SQLite and it’s driver. On Colab, you can simply connect to an SQLite database using the following command."
      ]
    },
    {
      "cell_type": "markdown",
      "metadata": {
        "id": "rp8-inoHaICL"
      },
      "source": []
    },
    {
      "cell_type": "code",
      "execution_count": null,
      "metadata": {
        "colab": {
          "base_uri": "https://localhost:8080/"
        },
        "id": "e2Hf9VWVXRyY",
        "outputId": "7d90198e-f4e1-4a65-9548-34f08c6002e0"
      },
      "outputs": [
        {
          "name": "stdout",
          "output_type": "stream",
          "text": [
            "Done.\n"
          ]
        },
        {
          "data": {
            "text/plain": [
              "[]"
            ]
          },
          "execution_count": 117,
          "metadata": {},
          "output_type": "execute_result"
        }
      ],
      "source": [
        "%%sql\n",
        "sqlite:///dsc100.db\n",
        "PRAGMA foreign_keys=ON;\n"
      ]
    },
    {
      "cell_type": "code",
      "execution_count": null,
      "metadata": {
        "colab": {
          "base_uri": "https://localhost:8080/"
        },
        "id": "QZmZ81UeXbRL",
        "outputId": "a4d1125b-9667-4e3e-efc4-6bb4d94f7bea"
      },
      "outputs": [
        {
          "name": "stdout",
          "output_type": "stream",
          "text": [
            "   sqlite:///dsc100.db\n",
            " * sqlite:///test.db\n",
            "Done.\n"
          ]
        },
        {
          "data": {
            "text/plain": [
              "[]"
            ]
          },
          "execution_count": 118,
          "metadata": {},
          "output_type": "execute_result"
        }
      ],
      "source": [
        "%%sql\n",
        "CREATE TABLE Employees (\n",
        "ID INT PRIMARY KEY,\n",
        "Name VARCHAR(255),\n",
        "ManagerID INT,\n",
        "FOREIGN KEY (ManagerID) REFERENCES Employees(ID)\n",
        ")"
      ]
    },
    {
      "cell_type": "markdown",
      "metadata": {
        "id": "X3bF6PM2ed0e"
      },
      "source": [
        "This is an exmpale of a self-reference. A self-reference is a reference within a table to another record within the same table. In this case, the Employees table has a Manager ID column which refers to the ID of another employee within the same table. This allows for the creation of a hierarchy within the table, where each employee has a manager and potentially multiple subordinates. This type of relationship is commonly used in organizational charts and other hierarchical structures.\n"
      ]
    },
    {
      "cell_type": "markdown",
      "metadata": {
        "id": "aL5TUt2nex9I"
      },
      "source": [
        "Now let's add some tuples in this dataset:"
      ]
    },
    {
      "cell_type": "code",
      "execution_count": null,
      "metadata": {
        "colab": {
          "base_uri": "https://localhost:8080/",
          "height": 671
        },
        "id": "Di-PhnHSeTAF",
        "outputId": "ba9ecedb-a34f-4985-cf52-ee22610e1924"
      },
      "outputs": [
        {
          "name": "stdout",
          "output_type": "stream",
          "text": [
            "   sqlite:///dsc100.db\n",
            " * sqlite:///test.db\n"
          ]
        },
        {
          "ename": "IntegrityError",
          "evalue": "ignored",
          "output_type": "error",
          "traceback": [
            "\u001b[0;31m---------------------------------------------------------------------------\u001b[0m",
            "\u001b[0;31mIntegrityError\u001b[0m                            Traceback (most recent call last)",
            "\u001b[0;32m/usr/local/lib/python3.8/dist-packages/sqlalchemy/engine/base.py\u001b[0m in \u001b[0;36m_execute_context\u001b[0;34m(self, dialect, constructor, statement, parameters, execution_options, *args, **kw)\u001b[0m\n\u001b[1;32m   1899\u001b[0m                 \u001b[0;32mif\u001b[0m \u001b[0;32mnot\u001b[0m \u001b[0mevt_handled\u001b[0m\u001b[0;34m:\u001b[0m\u001b[0;34m\u001b[0m\u001b[0;34m\u001b[0m\u001b[0m\n\u001b[0;32m-> 1900\u001b[0;31m                     self.dialect.do_execute(\n\u001b[0m\u001b[1;32m   1901\u001b[0m                         \u001b[0mcursor\u001b[0m\u001b[0;34m,\u001b[0m \u001b[0mstatement\u001b[0m\u001b[0;34m,\u001b[0m \u001b[0mparameters\u001b[0m\u001b[0;34m,\u001b[0m \u001b[0mcontext\u001b[0m\u001b[0;34m\u001b[0m\u001b[0;34m\u001b[0m\u001b[0m\n",
            "\u001b[0;32m/usr/local/lib/python3.8/dist-packages/sqlalchemy/engine/default.py\u001b[0m in \u001b[0;36mdo_execute\u001b[0;34m(self, cursor, statement, parameters, context)\u001b[0m\n\u001b[1;32m    735\u001b[0m     \u001b[0;32mdef\u001b[0m \u001b[0mdo_execute\u001b[0m\u001b[0;34m(\u001b[0m\u001b[0mself\u001b[0m\u001b[0;34m,\u001b[0m \u001b[0mcursor\u001b[0m\u001b[0;34m,\u001b[0m \u001b[0mstatement\u001b[0m\u001b[0;34m,\u001b[0m \u001b[0mparameters\u001b[0m\u001b[0;34m,\u001b[0m \u001b[0mcontext\u001b[0m\u001b[0;34m=\u001b[0m\u001b[0;32mNone\u001b[0m\u001b[0;34m)\u001b[0m\u001b[0;34m:\u001b[0m\u001b[0;34m\u001b[0m\u001b[0;34m\u001b[0m\u001b[0m\n\u001b[0;32m--> 736\u001b[0;31m         \u001b[0mcursor\u001b[0m\u001b[0;34m.\u001b[0m\u001b[0mexecute\u001b[0m\u001b[0;34m(\u001b[0m\u001b[0mstatement\u001b[0m\u001b[0;34m,\u001b[0m \u001b[0mparameters\u001b[0m\u001b[0;34m)\u001b[0m\u001b[0;34m\u001b[0m\u001b[0;34m\u001b[0m\u001b[0m\n\u001b[0m\u001b[1;32m    737\u001b[0m \u001b[0;34m\u001b[0m\u001b[0m\n",
            "\u001b[0;31mIntegrityError\u001b[0m: FOREIGN KEY constraint failed",
            "\nThe above exception was the direct cause of the following exception:\n",
            "\u001b[0;31mIntegrityError\u001b[0m                            Traceback (most recent call last)",
            "\u001b[0;32m<ipython-input-119-007349820865>\u001b[0m in \u001b[0;36m<module>\u001b[0;34m\u001b[0m\n\u001b[0;32m----> 1\u001b[0;31m \u001b[0mget_ipython\u001b[0m\u001b[0;34m(\u001b[0m\u001b[0;34m)\u001b[0m\u001b[0;34m.\u001b[0m\u001b[0mrun_cell_magic\u001b[0m\u001b[0;34m(\u001b[0m\u001b[0;34m'sql'\u001b[0m\u001b[0;34m,\u001b[0m \u001b[0;34m''\u001b[0m\u001b[0;34m,\u001b[0m \u001b[0;34m\"INSERT INTO Employees (ID, Name, ManagerID)\\nVALUES (1, 'John Smith', 3);\\n\"\u001b[0m\u001b[0;34m)\u001b[0m\u001b[0;34m\u001b[0m\u001b[0;34m\u001b[0m\u001b[0m\n\u001b[0m",
            "\u001b[0;32m/usr/local/lib/python3.8/dist-packages/IPython/core/interactiveshell.py\u001b[0m in \u001b[0;36mrun_cell_magic\u001b[0;34m(self, magic_name, line, cell)\u001b[0m\n\u001b[1;32m   2357\u001b[0m             \u001b[0;32mwith\u001b[0m \u001b[0mself\u001b[0m\u001b[0;34m.\u001b[0m\u001b[0mbuiltin_trap\u001b[0m\u001b[0;34m:\u001b[0m\u001b[0;34m\u001b[0m\u001b[0;34m\u001b[0m\u001b[0m\n\u001b[1;32m   2358\u001b[0m                 \u001b[0margs\u001b[0m \u001b[0;34m=\u001b[0m \u001b[0;34m(\u001b[0m\u001b[0mmagic_arg_s\u001b[0m\u001b[0;34m,\u001b[0m \u001b[0mcell\u001b[0m\u001b[0;34m)\u001b[0m\u001b[0;34m\u001b[0m\u001b[0;34m\u001b[0m\u001b[0m\n\u001b[0;32m-> 2359\u001b[0;31m                 \u001b[0mresult\u001b[0m \u001b[0;34m=\u001b[0m \u001b[0mfn\u001b[0m\u001b[0;34m(\u001b[0m\u001b[0;34m*\u001b[0m\u001b[0margs\u001b[0m\u001b[0;34m,\u001b[0m \u001b[0;34m**\u001b[0m\u001b[0mkwargs\u001b[0m\u001b[0;34m)\u001b[0m\u001b[0;34m\u001b[0m\u001b[0;34m\u001b[0m\u001b[0m\n\u001b[0m\u001b[1;32m   2360\u001b[0m             \u001b[0;32mreturn\u001b[0m \u001b[0mresult\u001b[0m\u001b[0;34m\u001b[0m\u001b[0;34m\u001b[0m\u001b[0m\n\u001b[1;32m   2361\u001b[0m \u001b[0;34m\u001b[0m\u001b[0m\n",
            "\u001b[0;32m<decorator-gen-119>\u001b[0m in \u001b[0;36mexecute\u001b[0;34m(self, line, cell, local_ns)\u001b[0m\n",
            "\u001b[0;32m/usr/local/lib/python3.8/dist-packages/IPython/core/magic.py\u001b[0m in \u001b[0;36m<lambda>\u001b[0;34m(f, *a, **k)\u001b[0m\n\u001b[1;32m    185\u001b[0m     \u001b[0;31m# but it's overkill for just that one bit of state.\u001b[0m\u001b[0;34m\u001b[0m\u001b[0;34m\u001b[0m\u001b[0;34m\u001b[0m\u001b[0m\n\u001b[1;32m    186\u001b[0m     \u001b[0;32mdef\u001b[0m \u001b[0mmagic_deco\u001b[0m\u001b[0;34m(\u001b[0m\u001b[0marg\u001b[0m\u001b[0;34m)\u001b[0m\u001b[0;34m:\u001b[0m\u001b[0;34m\u001b[0m\u001b[0;34m\u001b[0m\u001b[0m\n\u001b[0;32m--> 187\u001b[0;31m         \u001b[0mcall\u001b[0m \u001b[0;34m=\u001b[0m \u001b[0;32mlambda\u001b[0m \u001b[0mf\u001b[0m\u001b[0;34m,\u001b[0m \u001b[0;34m*\u001b[0m\u001b[0ma\u001b[0m\u001b[0;34m,\u001b[0m \u001b[0;34m**\u001b[0m\u001b[0mk\u001b[0m\u001b[0;34m:\u001b[0m \u001b[0mf\u001b[0m\u001b[0;34m(\u001b[0m\u001b[0;34m*\u001b[0m\u001b[0ma\u001b[0m\u001b[0;34m,\u001b[0m \u001b[0;34m**\u001b[0m\u001b[0mk\u001b[0m\u001b[0;34m)\u001b[0m\u001b[0;34m\u001b[0m\u001b[0;34m\u001b[0m\u001b[0m\n\u001b[0m\u001b[1;32m    188\u001b[0m \u001b[0;34m\u001b[0m\u001b[0m\n\u001b[1;32m    189\u001b[0m         \u001b[0;32mif\u001b[0m \u001b[0mcallable\u001b[0m\u001b[0;34m(\u001b[0m\u001b[0marg\u001b[0m\u001b[0;34m)\u001b[0m\u001b[0;34m:\u001b[0m\u001b[0;34m\u001b[0m\u001b[0;34m\u001b[0m\u001b[0m\n",
            "\u001b[0;32m<decorator-gen-118>\u001b[0m in \u001b[0;36mexecute\u001b[0;34m(self, line, cell, local_ns)\u001b[0m\n",
            "\u001b[0;32m/usr/local/lib/python3.8/dist-packages/IPython/core/magic.py\u001b[0m in \u001b[0;36m<lambda>\u001b[0;34m(f, *a, **k)\u001b[0m\n\u001b[1;32m    185\u001b[0m     \u001b[0;31m# but it's overkill for just that one bit of state.\u001b[0m\u001b[0;34m\u001b[0m\u001b[0;34m\u001b[0m\u001b[0;34m\u001b[0m\u001b[0m\n\u001b[1;32m    186\u001b[0m     \u001b[0;32mdef\u001b[0m \u001b[0mmagic_deco\u001b[0m\u001b[0;34m(\u001b[0m\u001b[0marg\u001b[0m\u001b[0;34m)\u001b[0m\u001b[0;34m:\u001b[0m\u001b[0;34m\u001b[0m\u001b[0;34m\u001b[0m\u001b[0m\n\u001b[0;32m--> 187\u001b[0;31m         \u001b[0mcall\u001b[0m \u001b[0;34m=\u001b[0m \u001b[0;32mlambda\u001b[0m \u001b[0mf\u001b[0m\u001b[0;34m,\u001b[0m \u001b[0;34m*\u001b[0m\u001b[0ma\u001b[0m\u001b[0;34m,\u001b[0m \u001b[0;34m**\u001b[0m\u001b[0mk\u001b[0m\u001b[0;34m:\u001b[0m \u001b[0mf\u001b[0m\u001b[0;34m(\u001b[0m\u001b[0;34m*\u001b[0m\u001b[0ma\u001b[0m\u001b[0;34m,\u001b[0m \u001b[0;34m**\u001b[0m\u001b[0mk\u001b[0m\u001b[0;34m)\u001b[0m\u001b[0;34m\u001b[0m\u001b[0;34m\u001b[0m\u001b[0m\n\u001b[0m\u001b[1;32m    188\u001b[0m \u001b[0;34m\u001b[0m\u001b[0m\n\u001b[1;32m    189\u001b[0m         \u001b[0;32mif\u001b[0m \u001b[0mcallable\u001b[0m\u001b[0;34m(\u001b[0m\u001b[0marg\u001b[0m\u001b[0;34m)\u001b[0m\u001b[0;34m:\u001b[0m\u001b[0;34m\u001b[0m\u001b[0;34m\u001b[0m\u001b[0m\n",
            "\u001b[0;32m/usr/local/lib/python3.8/dist-packages/sql/magic.py\u001b[0m in \u001b[0;36mexecute\u001b[0;34m(self, line, cell, local_ns)\u001b[0m\n\u001b[1;32m     93\u001b[0m \u001b[0;34m\u001b[0m\u001b[0m\n\u001b[1;32m     94\u001b[0m         \u001b[0;32mtry\u001b[0m\u001b[0;34m:\u001b[0m\u001b[0;34m\u001b[0m\u001b[0;34m\u001b[0m\u001b[0m\n\u001b[0;32m---> 95\u001b[0;31m             \u001b[0mresult\u001b[0m \u001b[0;34m=\u001b[0m \u001b[0msql\u001b[0m\u001b[0;34m.\u001b[0m\u001b[0mrun\u001b[0m\u001b[0;34m.\u001b[0m\u001b[0mrun\u001b[0m\u001b[0;34m(\u001b[0m\u001b[0mconn\u001b[0m\u001b[0;34m,\u001b[0m \u001b[0mparsed\u001b[0m\u001b[0;34m[\u001b[0m\u001b[0;34m'sql'\u001b[0m\u001b[0;34m]\u001b[0m\u001b[0;34m,\u001b[0m \u001b[0mself\u001b[0m\u001b[0;34m,\u001b[0m \u001b[0muser_ns\u001b[0m\u001b[0;34m)\u001b[0m\u001b[0;34m\u001b[0m\u001b[0;34m\u001b[0m\u001b[0m\n\u001b[0m\u001b[1;32m     96\u001b[0m \u001b[0;34m\u001b[0m\u001b[0m\n\u001b[1;32m     97\u001b[0m             \u001b[0;32mif\u001b[0m \u001b[0mresult\u001b[0m \u001b[0;32mis\u001b[0m \u001b[0;32mnot\u001b[0m \u001b[0;32mNone\u001b[0m \u001b[0;32mand\u001b[0m \u001b[0;32mnot\u001b[0m \u001b[0misinstance\u001b[0m\u001b[0;34m(\u001b[0m\u001b[0mresult\u001b[0m\u001b[0;34m,\u001b[0m \u001b[0mstr\u001b[0m\u001b[0;34m)\u001b[0m \u001b[0;32mand\u001b[0m \u001b[0mself\u001b[0m\u001b[0;34m.\u001b[0m\u001b[0mcolumn_local_vars\u001b[0m\u001b[0;34m:\u001b[0m\u001b[0;34m\u001b[0m\u001b[0;34m\u001b[0m\u001b[0m\n",
            "\u001b[0;32m/usr/local/lib/python3.8/dist-packages/sql/run.py\u001b[0m in \u001b[0;36mrun\u001b[0;34m(conn, sql, config, user_namespace)\u001b[0m\n\u001b[1;32m    338\u001b[0m             \u001b[0;32melse\u001b[0m\u001b[0;34m:\u001b[0m\u001b[0;34m\u001b[0m\u001b[0;34m\u001b[0m\u001b[0m\n\u001b[1;32m    339\u001b[0m                 \u001b[0mtxt\u001b[0m \u001b[0;34m=\u001b[0m \u001b[0msqlalchemy\u001b[0m\u001b[0;34m.\u001b[0m\u001b[0msql\u001b[0m\u001b[0;34m.\u001b[0m\u001b[0mtext\u001b[0m\u001b[0;34m(\u001b[0m\u001b[0mstatement\u001b[0m\u001b[0;34m)\u001b[0m\u001b[0;34m\u001b[0m\u001b[0;34m\u001b[0m\u001b[0m\n\u001b[0;32m--> 340\u001b[0;31m                 \u001b[0mresult\u001b[0m \u001b[0;34m=\u001b[0m \u001b[0mconn\u001b[0m\u001b[0;34m.\u001b[0m\u001b[0msession\u001b[0m\u001b[0;34m.\u001b[0m\u001b[0mexecute\u001b[0m\u001b[0;34m(\u001b[0m\u001b[0mtxt\u001b[0m\u001b[0;34m,\u001b[0m \u001b[0muser_namespace\u001b[0m\u001b[0;34m)\u001b[0m\u001b[0;34m\u001b[0m\u001b[0;34m\u001b[0m\u001b[0m\n\u001b[0m\u001b[1;32m    341\u001b[0m             \u001b[0m_commit\u001b[0m\u001b[0;34m(\u001b[0m\u001b[0mconn\u001b[0m\u001b[0;34m=\u001b[0m\u001b[0mconn\u001b[0m\u001b[0;34m,\u001b[0m \u001b[0mconfig\u001b[0m\u001b[0;34m=\u001b[0m\u001b[0mconfig\u001b[0m\u001b[0;34m)\u001b[0m\u001b[0;34m\u001b[0m\u001b[0;34m\u001b[0m\u001b[0m\n\u001b[1;32m    342\u001b[0m             \u001b[0;32mif\u001b[0m \u001b[0mresult\u001b[0m \u001b[0;32mand\u001b[0m \u001b[0mconfig\u001b[0m\u001b[0;34m.\u001b[0m\u001b[0mfeedback\u001b[0m\u001b[0;34m:\u001b[0m\u001b[0;34m\u001b[0m\u001b[0;34m\u001b[0m\u001b[0m\n",
            "\u001b[0;32m/usr/local/lib/python3.8/dist-packages/sqlalchemy/engine/base.py\u001b[0m in \u001b[0;36mexecute\u001b[0;34m(self, statement, *multiparams, **params)\u001b[0m\n\u001b[1;32m   1378\u001b[0m             )\n\u001b[1;32m   1379\u001b[0m         \u001b[0;32melse\u001b[0m\u001b[0;34m:\u001b[0m\u001b[0;34m\u001b[0m\u001b[0;34m\u001b[0m\u001b[0m\n\u001b[0;32m-> 1380\u001b[0;31m             \u001b[0;32mreturn\u001b[0m \u001b[0mmeth\u001b[0m\u001b[0;34m(\u001b[0m\u001b[0mself\u001b[0m\u001b[0;34m,\u001b[0m \u001b[0mmultiparams\u001b[0m\u001b[0;34m,\u001b[0m \u001b[0mparams\u001b[0m\u001b[0;34m,\u001b[0m \u001b[0m_EMPTY_EXECUTION_OPTS\u001b[0m\u001b[0;34m)\u001b[0m\u001b[0;34m\u001b[0m\u001b[0;34m\u001b[0m\u001b[0m\n\u001b[0m\u001b[1;32m   1381\u001b[0m \u001b[0;34m\u001b[0m\u001b[0m\n\u001b[1;32m   1382\u001b[0m     \u001b[0;32mdef\u001b[0m \u001b[0m_execute_function\u001b[0m\u001b[0;34m(\u001b[0m\u001b[0mself\u001b[0m\u001b[0;34m,\u001b[0m \u001b[0mfunc\u001b[0m\u001b[0;34m,\u001b[0m \u001b[0mmultiparams\u001b[0m\u001b[0;34m,\u001b[0m \u001b[0mparams\u001b[0m\u001b[0;34m,\u001b[0m \u001b[0mexecution_options\u001b[0m\u001b[0;34m)\u001b[0m\u001b[0;34m:\u001b[0m\u001b[0;34m\u001b[0m\u001b[0;34m\u001b[0m\u001b[0m\n",
            "\u001b[0;32m/usr/local/lib/python3.8/dist-packages/sqlalchemy/sql/elements.py\u001b[0m in \u001b[0;36m_execute_on_connection\u001b[0;34m(self, connection, multiparams, params, execution_options, _force)\u001b[0m\n\u001b[1;32m    332\u001b[0m     ):\n\u001b[1;32m    333\u001b[0m         \u001b[0;32mif\u001b[0m \u001b[0m_force\u001b[0m \u001b[0;32mor\u001b[0m \u001b[0mself\u001b[0m\u001b[0;34m.\u001b[0m\u001b[0msupports_execution\u001b[0m\u001b[0;34m:\u001b[0m\u001b[0;34m\u001b[0m\u001b[0;34m\u001b[0m\u001b[0m\n\u001b[0;32m--> 334\u001b[0;31m             return connection._execute_clauseelement(\n\u001b[0m\u001b[1;32m    335\u001b[0m                 \u001b[0mself\u001b[0m\u001b[0;34m,\u001b[0m \u001b[0mmultiparams\u001b[0m\u001b[0;34m,\u001b[0m \u001b[0mparams\u001b[0m\u001b[0;34m,\u001b[0m \u001b[0mexecution_options\u001b[0m\u001b[0;34m\u001b[0m\u001b[0;34m\u001b[0m\u001b[0m\n\u001b[1;32m    336\u001b[0m             )\n",
            "\u001b[0;32m/usr/local/lib/python3.8/dist-packages/sqlalchemy/engine/base.py\u001b[0m in \u001b[0;36m_execute_clauseelement\u001b[0;34m(self, elem, multiparams, params, execution_options)\u001b[0m\n\u001b[1;32m   1570\u001b[0m             \u001b[0mlinting\u001b[0m\u001b[0;34m=\u001b[0m\u001b[0mself\u001b[0m\u001b[0;34m.\u001b[0m\u001b[0mdialect\u001b[0m\u001b[0;34m.\u001b[0m\u001b[0mcompiler_linting\u001b[0m \u001b[0;34m|\u001b[0m \u001b[0mcompiler\u001b[0m\u001b[0;34m.\u001b[0m\u001b[0mWARN_LINTING\u001b[0m\u001b[0;34m,\u001b[0m\u001b[0;34m\u001b[0m\u001b[0;34m\u001b[0m\u001b[0m\n\u001b[1;32m   1571\u001b[0m         )\n\u001b[0;32m-> 1572\u001b[0;31m         ret = self._execute_context(\n\u001b[0m\u001b[1;32m   1573\u001b[0m             \u001b[0mdialect\u001b[0m\u001b[0;34m,\u001b[0m\u001b[0;34m\u001b[0m\u001b[0;34m\u001b[0m\u001b[0m\n\u001b[1;32m   1574\u001b[0m             \u001b[0mdialect\u001b[0m\u001b[0;34m.\u001b[0m\u001b[0mexecution_ctx_cls\u001b[0m\u001b[0;34m.\u001b[0m\u001b[0m_init_compiled\u001b[0m\u001b[0;34m,\u001b[0m\u001b[0;34m\u001b[0m\u001b[0;34m\u001b[0m\u001b[0m\n",
            "\u001b[0;32m/usr/local/lib/python3.8/dist-packages/sqlalchemy/engine/base.py\u001b[0m in \u001b[0;36m_execute_context\u001b[0;34m(self, dialect, constructor, statement, parameters, execution_options, *args, **kw)\u001b[0m\n\u001b[1;32m   1941\u001b[0m \u001b[0;34m\u001b[0m\u001b[0m\n\u001b[1;32m   1942\u001b[0m         \u001b[0;32mexcept\u001b[0m \u001b[0mBaseException\u001b[0m \u001b[0;32mas\u001b[0m \u001b[0me\u001b[0m\u001b[0;34m:\u001b[0m\u001b[0;34m\u001b[0m\u001b[0;34m\u001b[0m\u001b[0m\n\u001b[0;32m-> 1943\u001b[0;31m             self._handle_dbapi_exception(\n\u001b[0m\u001b[1;32m   1944\u001b[0m                 \u001b[0me\u001b[0m\u001b[0;34m,\u001b[0m \u001b[0mstatement\u001b[0m\u001b[0;34m,\u001b[0m \u001b[0mparameters\u001b[0m\u001b[0;34m,\u001b[0m \u001b[0mcursor\u001b[0m\u001b[0;34m,\u001b[0m \u001b[0mcontext\u001b[0m\u001b[0;34m\u001b[0m\u001b[0;34m\u001b[0m\u001b[0m\n\u001b[1;32m   1945\u001b[0m             )\n",
            "\u001b[0;32m/usr/local/lib/python3.8/dist-packages/sqlalchemy/engine/base.py\u001b[0m in \u001b[0;36m_handle_dbapi_exception\u001b[0;34m(self, e, statement, parameters, cursor, context)\u001b[0m\n\u001b[1;32m   2122\u001b[0m                 \u001b[0mutil\u001b[0m\u001b[0;34m.\u001b[0m\u001b[0mraise_\u001b[0m\u001b[0;34m(\u001b[0m\u001b[0mnewraise\u001b[0m\u001b[0;34m,\u001b[0m \u001b[0mwith_traceback\u001b[0m\u001b[0;34m=\u001b[0m\u001b[0mexc_info\u001b[0m\u001b[0;34m[\u001b[0m\u001b[0;36m2\u001b[0m\u001b[0;34m]\u001b[0m\u001b[0;34m,\u001b[0m \u001b[0mfrom_\u001b[0m\u001b[0;34m=\u001b[0m\u001b[0me\u001b[0m\u001b[0;34m)\u001b[0m\u001b[0;34m\u001b[0m\u001b[0;34m\u001b[0m\u001b[0m\n\u001b[1;32m   2123\u001b[0m             \u001b[0;32melif\u001b[0m \u001b[0mshould_wrap\u001b[0m\u001b[0;34m:\u001b[0m\u001b[0;34m\u001b[0m\u001b[0;34m\u001b[0m\u001b[0m\n\u001b[0;32m-> 2124\u001b[0;31m                 util.raise_(\n\u001b[0m\u001b[1;32m   2125\u001b[0m                     \u001b[0msqlalchemy_exception\u001b[0m\u001b[0;34m,\u001b[0m \u001b[0mwith_traceback\u001b[0m\u001b[0;34m=\u001b[0m\u001b[0mexc_info\u001b[0m\u001b[0;34m[\u001b[0m\u001b[0;36m2\u001b[0m\u001b[0;34m]\u001b[0m\u001b[0;34m,\u001b[0m \u001b[0mfrom_\u001b[0m\u001b[0;34m=\u001b[0m\u001b[0me\u001b[0m\u001b[0;34m\u001b[0m\u001b[0;34m\u001b[0m\u001b[0m\n\u001b[1;32m   2126\u001b[0m                 )\n",
            "\u001b[0;32m/usr/local/lib/python3.8/dist-packages/sqlalchemy/util/compat.py\u001b[0m in \u001b[0;36mraise_\u001b[0;34m(***failed resolving arguments***)\u001b[0m\n\u001b[1;32m    209\u001b[0m \u001b[0;34m\u001b[0m\u001b[0m\n\u001b[1;32m    210\u001b[0m         \u001b[0;32mtry\u001b[0m\u001b[0;34m:\u001b[0m\u001b[0;34m\u001b[0m\u001b[0;34m\u001b[0m\u001b[0m\n\u001b[0;32m--> 211\u001b[0;31m             \u001b[0;32mraise\u001b[0m \u001b[0mexception\u001b[0m\u001b[0;34m\u001b[0m\u001b[0;34m\u001b[0m\u001b[0m\n\u001b[0m\u001b[1;32m    212\u001b[0m         \u001b[0;32mfinally\u001b[0m\u001b[0;34m:\u001b[0m\u001b[0;34m\u001b[0m\u001b[0;34m\u001b[0m\u001b[0m\n\u001b[1;32m    213\u001b[0m             \u001b[0;31m# credit to\u001b[0m\u001b[0;34m\u001b[0m\u001b[0;34m\u001b[0m\u001b[0;34m\u001b[0m\u001b[0m\n",
            "\u001b[0;32m/usr/local/lib/python3.8/dist-packages/sqlalchemy/engine/base.py\u001b[0m in \u001b[0;36m_execute_context\u001b[0;34m(self, dialect, constructor, statement, parameters, execution_options, *args, **kw)\u001b[0m\n\u001b[1;32m   1898\u001b[0m                             \u001b[0;32mbreak\u001b[0m\u001b[0;34m\u001b[0m\u001b[0;34m\u001b[0m\u001b[0m\n\u001b[1;32m   1899\u001b[0m                 \u001b[0;32mif\u001b[0m \u001b[0;32mnot\u001b[0m \u001b[0mevt_handled\u001b[0m\u001b[0;34m:\u001b[0m\u001b[0;34m\u001b[0m\u001b[0;34m\u001b[0m\u001b[0m\n\u001b[0;32m-> 1900\u001b[0;31m                     self.dialect.do_execute(\n\u001b[0m\u001b[1;32m   1901\u001b[0m                         \u001b[0mcursor\u001b[0m\u001b[0;34m,\u001b[0m \u001b[0mstatement\u001b[0m\u001b[0;34m,\u001b[0m \u001b[0mparameters\u001b[0m\u001b[0;34m,\u001b[0m \u001b[0mcontext\u001b[0m\u001b[0;34m\u001b[0m\u001b[0;34m\u001b[0m\u001b[0m\n\u001b[1;32m   1902\u001b[0m                     )\n",
            "\u001b[0;32m/usr/local/lib/python3.8/dist-packages/sqlalchemy/engine/default.py\u001b[0m in \u001b[0;36mdo_execute\u001b[0;34m(self, cursor, statement, parameters, context)\u001b[0m\n\u001b[1;32m    734\u001b[0m \u001b[0;34m\u001b[0m\u001b[0m\n\u001b[1;32m    735\u001b[0m     \u001b[0;32mdef\u001b[0m \u001b[0mdo_execute\u001b[0m\u001b[0;34m(\u001b[0m\u001b[0mself\u001b[0m\u001b[0;34m,\u001b[0m \u001b[0mcursor\u001b[0m\u001b[0;34m,\u001b[0m \u001b[0mstatement\u001b[0m\u001b[0;34m,\u001b[0m \u001b[0mparameters\u001b[0m\u001b[0;34m,\u001b[0m \u001b[0mcontext\u001b[0m\u001b[0;34m=\u001b[0m\u001b[0;32mNone\u001b[0m\u001b[0;34m)\u001b[0m\u001b[0;34m:\u001b[0m\u001b[0;34m\u001b[0m\u001b[0;34m\u001b[0m\u001b[0m\n\u001b[0;32m--> 736\u001b[0;31m         \u001b[0mcursor\u001b[0m\u001b[0;34m.\u001b[0m\u001b[0mexecute\u001b[0m\u001b[0;34m(\u001b[0m\u001b[0mstatement\u001b[0m\u001b[0;34m,\u001b[0m \u001b[0mparameters\u001b[0m\u001b[0;34m)\u001b[0m\u001b[0;34m\u001b[0m\u001b[0;34m\u001b[0m\u001b[0m\n\u001b[0m\u001b[1;32m    737\u001b[0m \u001b[0;34m\u001b[0m\u001b[0m\n\u001b[1;32m    738\u001b[0m     \u001b[0;32mdef\u001b[0m \u001b[0mdo_execute_no_params\u001b[0m\u001b[0;34m(\u001b[0m\u001b[0mself\u001b[0m\u001b[0;34m,\u001b[0m \u001b[0mcursor\u001b[0m\u001b[0;34m,\u001b[0m \u001b[0mstatement\u001b[0m\u001b[0;34m,\u001b[0m \u001b[0mcontext\u001b[0m\u001b[0;34m=\u001b[0m\u001b[0;32mNone\u001b[0m\u001b[0;34m)\u001b[0m\u001b[0;34m:\u001b[0m\u001b[0;34m\u001b[0m\u001b[0;34m\u001b[0m\u001b[0m\n",
            "\u001b[0;31mIntegrityError\u001b[0m: (sqlite3.IntegrityError) FOREIGN KEY constraint failed\n[SQL: INSERT INTO Employees (ID, Name, ManagerID)\nVALUES (1, 'John Smith', 3);]\n(Background on this error at: https://sqlalche.me/e/14/gkpj)"
          ]
        }
      ],
      "source": [
        "%%sql\n",
        "INSERT INTO Employees (ID, Name, ManagerID)\n",
        "VALUES (1, 'John Smith', 3);\n"
      ]
    },
    {
      "cell_type": "markdown",
      "metadata": {
        "id": "Cb7ODYZWhcw_"
      },
      "source": [
        "**But this leads to violation of foregn key constraint. How on earth can we insert data into such a self refrenceing databses? 😖😖😖**\n",
        "\n",
        "\n",
        "In this example, you can set the ManagerID column  to null. Once you have inserted some data into the table, you can then use the ManagerID column to reference the ID of the employee's manager."
      ]
    },
    {
      "cell_type": "code",
      "execution_count": null,
      "metadata": {
        "colab": {
          "base_uri": "https://localhost:8080/"
        },
        "id": "YaaUczk-gWoC",
        "outputId": "1c06bbbe-e293-4550-da32-322054e753a4"
      },
      "outputs": [
        {
          "name": "stdout",
          "output_type": "stream",
          "text": [
            "   sqlite:///dsc100.db\n",
            " * sqlite:///test.db\n",
            "1 rows affected.\n"
          ]
        },
        {
          "data": {
            "text/plain": [
              "[]"
            ]
          },
          "execution_count": 120,
          "metadata": {},
          "output_type": "execute_result"
        }
      ],
      "source": [
        "%%sql\n",
        "INSERT INTO Employees (ID, Name, ManagerID) VALUES (1, 'John Doe', null);\n"
      ]
    },
    {
      "cell_type": "code",
      "execution_count": null,
      "metadata": {
        "colab": {
          "base_uri": "https://localhost:8080/",
          "height": 115
        },
        "id": "VJqXnYQHgcqw",
        "outputId": "b9c44e83-4b11-4c06-913f-b42547075092"
      },
      "outputs": [
        {
          "name": "stdout",
          "output_type": "stream",
          "text": [
            "   sqlite:///dsc100.db\n",
            " * sqlite:///test.db\n",
            "Done.\n"
          ]
        },
        {
          "data": {
            "text/html": [
              "<table>\n",
              "    <thead>\n",
              "        <tr>\n",
              "            <th>ID</th>\n",
              "            <th>Name</th>\n",
              "            <th>ManagerID</th>\n",
              "        </tr>\n",
              "    </thead>\n",
              "    <tbody>\n",
              "        <tr>\n",
              "            <td>1</td>\n",
              "            <td>John Doe</td>\n",
              "            <td>None</td>\n",
              "        </tr>\n",
              "    </tbody>\n",
              "</table>"
            ],
            "text/plain": [
              "[(1, 'John Doe', None)]"
            ]
          },
          "execution_count": 121,
          "metadata": {},
          "output_type": "execute_result"
        }
      ],
      "source": [
        "%%sql\n",
        "SELECT * FROM Employees;"
      ]
    },
    {
      "cell_type": "code",
      "execution_count": null,
      "metadata": {
        "colab": {
          "base_uri": "https://localhost:8080/"
        },
        "id": "KjDArY80h9CO",
        "outputId": "51540289-0021-4083-f8a5-80c1be468c9c"
      },
      "outputs": [
        {
          "name": "stdout",
          "output_type": "stream",
          "text": [
            "   sqlite:///dsc100.db\n",
            " * sqlite:///test.db\n",
            "1 rows affected.\n"
          ]
        },
        {
          "data": {
            "text/plain": [
              "[]"
            ]
          },
          "execution_count": 122,
          "metadata": {},
          "output_type": "execute_result"
        }
      ],
      "source": [
        "%%sql\n",
        "DELETE FROM Employees;"
      ]
    },
    {
      "cell_type": "code",
      "execution_count": null,
      "metadata": {
        "colab": {
          "base_uri": "https://localhost:8080/"
        },
        "id": "LRSG7idNiWGD",
        "outputId": "569ead88-f02e-4e0f-ee4e-9a65a96d3eb8"
      },
      "outputs": [
        {
          "name": "stdout",
          "output_type": "stream",
          "text": [
            "   sqlite:///dsc100.db\n",
            " * sqlite:///test.db\n",
            "5 rows affected.\n"
          ]
        },
        {
          "data": {
            "text/plain": [
              "[]"
            ]
          },
          "execution_count": 123,
          "metadata": {},
          "output_type": "execute_result"
        }
      ],
      "source": [
        "%%sql\n",
        "\n",
        "INSERT INTO Employees (ID, Name, ManagerID)\n",
        "VALUES (1, 'John Smith', 3),\n",
        "(2, 'Jane Doe', 3),\n",
        "(3, 'Bob Johnson',  ),\n",
        "(4, 'Emily Davis', 1),\n",
        "(5, 'Michael Brown', 2);\n"
      ]
    },
    {
      "cell_type": "code",
      "execution_count": null,
      "metadata": {
        "colab": {
          "base_uri": "https://localhost:8080/",
          "height": 200
        },
        "id": "TwQvqxwYibPI",
        "outputId": "b1bdac5c-5870-4f25-d81f-510450c5f5d0"
      },
      "outputs": [
        {
          "name": "stdout",
          "output_type": "stream",
          "text": [
            "   sqlite:///dsc100.db\n",
            " * sqlite:///test.db\n",
            "Done.\n"
          ]
        },
        {
          "data": {
            "text/html": [
              "<table>\n",
              "    <thead>\n",
              "        <tr>\n",
              "            <th>ID</th>\n",
              "            <th>Name</th>\n",
              "            <th>ManagerID</th>\n",
              "        </tr>\n",
              "    </thead>\n",
              "    <tbody>\n",
              "        <tr>\n",
              "            <td>1</td>\n",
              "            <td>John Smith</td>\n",
              "            <td>3</td>\n",
              "        </tr>\n",
              "        <tr>\n",
              "            <td>2</td>\n",
              "            <td>Jane Doe</td>\n",
              "            <td>3</td>\n",
              "        </tr>\n",
              "        <tr>\n",
              "            <td>3</td>\n",
              "            <td>Bob Johnson</td>\n",
              "            <td>None</td>\n",
              "        </tr>\n",
              "        <tr>\n",
              "            <td>4</td>\n",
              "            <td>Emily Davis</td>\n",
              "            <td>1</td>\n",
              "        </tr>\n",
              "        <tr>\n",
              "            <td>5</td>\n",
              "            <td>Michael Brown</td>\n",
              "            <td>2</td>\n",
              "        </tr>\n",
              "    </tbody>\n",
              "</table>"
            ],
            "text/plain": [
              "[(1, 'John Smith', 3),\n",
              " (2, 'Jane Doe', 3),\n",
              " (3, 'Bob Johnson', None),\n",
              " (4, 'Emily Davis', 1),\n",
              " (5, 'Michael Brown', 2)]"
            ]
          },
          "execution_count": 124,
          "metadata": {},
          "output_type": "execute_result"
        }
      ],
      "source": [
        "%%sql\n",
        "SELECT * FROM Employees;"
      ]
    },
    {
      "cell_type": "code",
      "execution_count": null,
      "metadata": {
        "colab": {
          "base_uri": "https://localhost:8080/",
          "height": 182
        },
        "id": "iHTx-38wRxTE",
        "outputId": "ae615582-7bf5-472c-d031-9d9b6d7b2c03"
      },
      "outputs": [
        {
          "name": "stdout",
          "output_type": "stream",
          "text": [
            " * sqlite:///dsc100.db\n",
            "Done.\n"
          ]
        },
        {
          "data": {
            "text/html": [
              "<table>\n",
              "    <thead>\n",
              "        <tr>\n",
              "            <th>ID</th>\n",
              "            <th>Name</th>\n",
              "            <th>ManagerID</th>\n",
              "        </tr>\n",
              "    </thead>\n",
              "    <tbody>\n",
              "        <tr>\n",
              "            <td>1</td>\n",
              "            <td>John Smith</td>\n",
              "            <td>3</td>\n",
              "        </tr>\n",
              "        <tr>\n",
              "            <td>2</td>\n",
              "            <td>Jane Doe</td>\n",
              "            <td>3</td>\n",
              "        </tr>\n",
              "        <tr>\n",
              "            <td>3</td>\n",
              "            <td>Bob Johnson</td>\n",
              "            <td>None</td>\n",
              "        </tr>\n",
              "        <tr>\n",
              "            <td>4</td>\n",
              "            <td>Emily Davis</td>\n",
              "            <td>1</td>\n",
              "        </tr>\n",
              "        <tr>\n",
              "            <td>5</td>\n",
              "            <td>Michael Brown</td>\n",
              "            <td>2</td>\n",
              "        </tr>\n",
              "    </tbody>\n",
              "</table>"
            ],
            "text/plain": [
              "[(1, 'John Smith', 3),\n",
              " (2, 'Jane Doe', 3),\n",
              " (3, 'Bob Johnson', None),\n",
              " (4, 'Emily Davis', 1),\n",
              " (5, 'Michael Brown', 2)]"
            ]
          },
          "execution_count": 25,
          "metadata": {},
          "output_type": "execute_result"
        }
      ],
      "source": [
        "%%sql\n",
        "SELECT * FROM Employees;"
      ]
    },
    {
      "cell_type": "code",
      "execution_count": null,
      "metadata": {
        "colab": {
          "base_uri": "https://localhost:8080/",
          "height": 179
        },
        "id": "AqgZxjGy3MwB",
        "outputId": "6fd727d0-c180-438a-ae51-799be920f812"
      },
      "outputs": [
        {
          "name": "stdout",
          "output_type": "stream",
          "text": [
            "   sqlite:///dsc100.db\n",
            " * sqlite:///test.db\n",
            "Done.\n"
          ]
        },
        {
          "data": {
            "text/html": [
              "<table>\n",
              "    <thead>\n",
              "        <tr>\n",
              "            <th>ID</th>\n",
              "            <th>Name</th>\n",
              "            <th>ManagerID</th>\n",
              "            <th>ID_1</th>\n",
              "            <th>Name_1</th>\n",
              "            <th>ManagerID_1</th>\n",
              "        </tr>\n",
              "    </thead>\n",
              "    <tbody>\n",
              "        <tr>\n",
              "            <td>1</td>\n",
              "            <td>John Smith</td>\n",
              "            <td>3</td>\n",
              "            <td>3</td>\n",
              "            <td>Bob Johnson</td>\n",
              "            <td>None</td>\n",
              "        </tr>\n",
              "        <tr>\n",
              "            <td>2</td>\n",
              "            <td>Jane Doe</td>\n",
              "            <td>3</td>\n",
              "            <td>3</td>\n",
              "            <td>Bob Johnson</td>\n",
              "            <td>None</td>\n",
              "        </tr>\n",
              "        <tr>\n",
              "            <td>4</td>\n",
              "            <td>Emily Davis</td>\n",
              "            <td>1</td>\n",
              "            <td>1</td>\n",
              "            <td>John Smith</td>\n",
              "            <td>3</td>\n",
              "        </tr>\n",
              "        <tr>\n",
              "            <td>5</td>\n",
              "            <td>Michael Brown</td>\n",
              "            <td>2</td>\n",
              "            <td>2</td>\n",
              "            <td>Jane Doe</td>\n",
              "            <td>3</td>\n",
              "        </tr>\n",
              "    </tbody>\n",
              "</table>"
            ],
            "text/plain": [
              "[(1, 'John Smith', 3, 3, 'Bob Johnson', None),\n",
              " (2, 'Jane Doe', 3, 3, 'Bob Johnson', None),\n",
              " (4, 'Emily Davis', 1, 1, 'John Smith', 3),\n",
              " (5, 'Michael Brown', 2, 2, 'Jane Doe', 3)]"
            ]
          },
          "execution_count": 127,
          "metadata": {},
          "output_type": "execute_result"
        }
      ],
      "source": [
        "%%sql\n",
        "SELECT *\n",
        "FROM Employees as e1\n",
        "JOIN Employees as e2\n",
        "ON e1.ManagerID = e2.ID;\n",
        "\n"
      ]
    },
    {
      "cell_type": "markdown",
      "metadata": {
        "id": "Ci7vz5UOjYF4"
      },
      "source": [
        "Retrieve all employees and their corresponding managers:"
      ]
    },
    {
      "cell_type": "code",
      "execution_count": null,
      "metadata": {
        "colab": {
          "base_uri": "https://localhost:8080/",
          "height": 179
        },
        "id": "f67Pz05jjYoA",
        "outputId": "84dae170-4e7e-4df7-e4db-29f78b59f9b8"
      },
      "outputs": [
        {
          "name": "stdout",
          "output_type": "stream",
          "text": [
            "   sqlite:///dsc100.db\n",
            " * sqlite:///test.db\n",
            "Done.\n"
          ]
        },
        {
          "data": {
            "text/html": [
              "<table>\n",
              "    <thead>\n",
              "        <tr>\n",
              "            <th>Employee</th>\n",
              "            <th>Manager</th>\n",
              "        </tr>\n",
              "    </thead>\n",
              "    <tbody>\n",
              "        <tr>\n",
              "            <td>John Smith</td>\n",
              "            <td>Bob Johnson</td>\n",
              "        </tr>\n",
              "        <tr>\n",
              "            <td>Jane Doe</td>\n",
              "            <td>Bob Johnson</td>\n",
              "        </tr>\n",
              "        <tr>\n",
              "            <td>Emily Davis</td>\n",
              "            <td>John Smith</td>\n",
              "        </tr>\n",
              "        <tr>\n",
              "            <td>Michael Brown</td>\n",
              "            <td>Jane Doe</td>\n",
              "        </tr>\n",
              "    </tbody>\n",
              "</table>"
            ],
            "text/plain": [
              "[('John Smith', 'Bob Johnson'),\n",
              " ('Jane Doe', 'Bob Johnson'),\n",
              " ('Emily Davis', 'John Smith'),\n",
              " ('Michael Brown', 'Jane Doe')]"
            ]
          },
          "execution_count": 134,
          "metadata": {},
          "output_type": "execute_result"
        }
      ],
      "source": [
        "%%sql\n",
        "SELECT e1.Name as Employee, e2.Name as Manager\n",
        "FROM Employees as e1\n",
        "JOIN Employees as e2\n",
        "ON e1.ManagerID = e2.ID\n"
      ]
    },
    {
      "cell_type": "code",
      "execution_count": null,
      "metadata": {
        "colab": {
          "base_uri": "https://localhost:8080/",
          "height": 200
        },
        "id": "6aPOck9s5wje",
        "outputId": "213c3c4b-6657-4303-fd83-f9606d2cce09"
      },
      "outputs": [
        {
          "name": "stdout",
          "output_type": "stream",
          "text": [
            "   sqlite:///dsc100.db\n",
            " * sqlite:///test.db\n",
            "Done.\n"
          ]
        },
        {
          "data": {
            "text/html": [
              "<table>\n",
              "    <thead>\n",
              "        <tr>\n",
              "            <th>ID</th>\n",
              "            <th>Name</th>\n",
              "            <th>ManagerID</th>\n",
              "        </tr>\n",
              "    </thead>\n",
              "    <tbody>\n",
              "        <tr>\n",
              "            <td>1</td>\n",
              "            <td>John Smith</td>\n",
              "            <td>3</td>\n",
              "        </tr>\n",
              "        <tr>\n",
              "            <td>2</td>\n",
              "            <td>Jane Doe</td>\n",
              "            <td>3</td>\n",
              "        </tr>\n",
              "        <tr>\n",
              "            <td>3</td>\n",
              "            <td>Bob Johnson</td>\n",
              "            <td>None</td>\n",
              "        </tr>\n",
              "        <tr>\n",
              "            <td>4</td>\n",
              "            <td>Emily Davis</td>\n",
              "            <td>1</td>\n",
              "        </tr>\n",
              "        <tr>\n",
              "            <td>5</td>\n",
              "            <td>Michael Brown</td>\n",
              "            <td>2</td>\n",
              "        </tr>\n",
              "    </tbody>\n",
              "</table>"
            ],
            "text/plain": [
              "[(1, 'John Smith', 3),\n",
              " (2, 'Jane Doe', 3),\n",
              " (3, 'Bob Johnson', None),\n",
              " (4, 'Emily Davis', 1),\n",
              " (5, 'Michael Brown', 2)]"
            ]
          },
          "execution_count": 135,
          "metadata": {},
          "output_type": "execute_result"
        }
      ],
      "source": [
        "%%sql SELECT *\n",
        "FROM Employees;"
      ]
    },
    {
      "cell_type": "markdown",
      "metadata": {
        "id": "YnUlRq2AixQK"
      },
      "source": [
        "Retrieve all employees and their corresponding managers, but also include those employees who do not have a manager:"
      ]
    },
    {
      "cell_type": "code",
      "execution_count": null,
      "metadata": {
        "colab": {
          "base_uri": "https://localhost:8080/"
        },
        "id": "aCxERhG15eH3",
        "outputId": "94915865-d288-4531-90f8-e1f6391906d4"
      },
      "outputs": [
        {
          "name": "stdout",
          "output_type": "stream",
          "text": [
            "   sqlite:///dsc100.db\n",
            " * sqlite:///test.db\n",
            "(sqlite3.OperationalError) no such table: Employee\n",
            "[SQL: SELECT * from Employee;]\n",
            "(Background on this error at: https://sqlalche.me/e/14/e3q8)\n"
          ]
        }
      ],
      "source": [
        "%%sql\n",
        "SELECT * from Employee;"
      ]
    },
    {
      "cell_type": "code",
      "execution_count": null,
      "metadata": {
        "colab": {
          "base_uri": "https://localhost:8080/",
          "height": 200
        },
        "id": "q2Kg1XhCiiSg",
        "outputId": "73cf59e1-77dd-4d65-e59a-a9507d527062"
      },
      "outputs": [
        {
          "name": "stdout",
          "output_type": "stream",
          "text": [
            "   sqlite:///dsc100.db\n",
            " * sqlite:///test.db\n",
            "Done.\n"
          ]
        },
        {
          "data": {
            "text/html": [
              "<table>\n",
              "    <thead>\n",
              "        <tr>\n",
              "            <th>Employee</th>\n",
              "            <th>Manager</th>\n",
              "        </tr>\n",
              "    </thead>\n",
              "    <tbody>\n",
              "        <tr>\n",
              "            <td>John Smith</td>\n",
              "            <td>Bob Johnson</td>\n",
              "        </tr>\n",
              "        <tr>\n",
              "            <td>Jane Doe</td>\n",
              "            <td>Bob Johnson</td>\n",
              "        </tr>\n",
              "        <tr>\n",
              "            <td>Bob Johnson</td>\n",
              "            <td>None</td>\n",
              "        </tr>\n",
              "        <tr>\n",
              "            <td>Emily Davis</td>\n",
              "            <td>John Smith</td>\n",
              "        </tr>\n",
              "        <tr>\n",
              "            <td>Michael Brown</td>\n",
              "            <td>Jane Doe</td>\n",
              "        </tr>\n",
              "    </tbody>\n",
              "</table>"
            ],
            "text/plain": [
              "[('John Smith', 'Bob Johnson'),\n",
              " ('Jane Doe', 'Bob Johnson'),\n",
              " ('Bob Johnson', None),\n",
              " ('Emily Davis', 'John Smith'),\n",
              " ('Michael Brown', 'Jane Doe')]"
            ]
          },
          "execution_count": 128,
          "metadata": {},
          "output_type": "execute_result"
        }
      ],
      "source": [
        "%%sql\n",
        "SELECT e1.Name as Employee, e2.Name as Manager\n",
        "FROM  Employees e1\n",
        "LEFT OUTER JOIN Employees e2\n",
        "ON e1.ManagerID = e2.ID\n"
      ]
    },
    {
      "cell_type": "markdown",
      "metadata": {
        "id": "GhIdk0yTl-l4"
      },
      "source": [
        "Retrieve all employees and their corresponding managers, but also include those mannagers who do not have any employees yet:"
      ]
    },
    {
      "cell_type": "code",
      "execution_count": null,
      "metadata": {
        "colab": {
          "base_uri": "https://localhost:8080/"
        },
        "id": "rk0WKQQHmCLo",
        "outputId": "0c2365fc-fc68-4573-868e-51bb6c189792"
      },
      "outputs": [
        {
          "name": "stdout",
          "output_type": "stream",
          "text": [
            "   sqlite:///dsc100.db\n",
            " * sqlite:///test.db\n",
            "(sqlite3.OperationalError) RIGHT and FULL OUTER JOINs are not currently supported\n",
            "[SQL: SELECT e1.Name as Employee, e2.Name as Manager\n",
            "FROM Employees e1\n",
            "RIGHT JOIN Employees e2\n",
            "ON e1.ManagerID = e2.ID]\n",
            "(Background on this error at: https://sqlalche.me/e/14/e3q8)\n"
          ]
        }
      ],
      "source": [
        "%%sql\n",
        "SELECT e1.Name as Employee, e2.Name as Manager\n",
        "FROM Employees e1\n",
        "RIGHT JOIN Employees e2\n",
        "ON e1.ManagerID = e2.ID\n"
      ]
    },
    {
      "cell_type": "markdown",
      "metadata": {
        "id": "GMgrlK3LmOAU"
      },
      "source": [
        "But how can we do this now?! 😞"
      ]
    },
    {
      "cell_type": "code",
      "execution_count": null,
      "metadata": {
        "colab": {
          "base_uri": "https://localhost:8080/",
          "height": 222
        },
        "id": "ohYSe3ilmKZN",
        "outputId": "7c209526-d7bc-4f58-edcd-fc818ea3bac0"
      },
      "outputs": [
        {
          "name": "stdout",
          "output_type": "stream",
          "text": [
            "   sqlite:///dsc100.db\n",
            " * sqlite:///test.db\n",
            "Done.\n"
          ]
        },
        {
          "data": {
            "text/html": [
              "<table>\n",
              "    <thead>\n",
              "        <tr>\n",
              "            <th>Employee</th>\n",
              "            <th>Manager</th>\n",
              "        </tr>\n",
              "    </thead>\n",
              "    <tbody>\n",
              "        <tr>\n",
              "            <td>Emily Davis</td>\n",
              "            <td>John Smith</td>\n",
              "        </tr>\n",
              "        <tr>\n",
              "            <td>Michael Brown</td>\n",
              "            <td>Jane Doe</td>\n",
              "        </tr>\n",
              "        <tr>\n",
              "            <td>Jane Doe</td>\n",
              "            <td>Bob Johnson</td>\n",
              "        </tr>\n",
              "        <tr>\n",
              "            <td>John Smith</td>\n",
              "            <td>Bob Johnson</td>\n",
              "        </tr>\n",
              "        <tr>\n",
              "            <td>None</td>\n",
              "            <td>Emily Davis</td>\n",
              "        </tr>\n",
              "        <tr>\n",
              "            <td>None</td>\n",
              "            <td>Michael Brown</td>\n",
              "        </tr>\n",
              "    </tbody>\n",
              "</table>"
            ],
            "text/plain": [
              "[('Emily Davis', 'John Smith'),\n",
              " ('Michael Brown', 'Jane Doe'),\n",
              " ('Jane Doe', 'Bob Johnson'),\n",
              " ('John Smith', 'Bob Johnson'),\n",
              " (None, 'Emily Davis'),\n",
              " (None, 'Michael Brown')]"
            ]
          },
          "execution_count": 137,
          "metadata": {},
          "output_type": "execute_result"
        }
      ],
      "source": [
        "%%sql\n",
        "SELECT e1.Name as Employee, e2.Name as Manager\n",
        "FROM Employees e2\n",
        "LEFT JOIN Employees e1\n",
        "ON e1.ManagerID = e2.ID\n"
      ]
    },
    {
      "cell_type": "markdown",
      "metadata": {
        "id": "o3RLUOvNmxm-"
      },
      "source": [
        "Retrieve all employees and their corresponding managers, but also include those employees and managers who do not have a match in the other table:\n"
      ]
    },
    {
      "cell_type": "code",
      "execution_count": null,
      "metadata": {
        "colab": {
          "base_uri": "https://localhost:8080/"
        },
        "id": "I0f3uTpUmwza",
        "outputId": "00663f2f-93dc-456d-a6e2-b58252a009a4"
      },
      "outputs": [
        {
          "name": "stdout",
          "output_type": "stream",
          "text": [
            "   sqlite:///dsc100.db\n",
            " * sqlite:///test.db\n",
            "(sqlite3.OperationalError) RIGHT and FULL OUTER JOINs are not currently supported\n",
            "[SQL: SELECT e1.Name as Employee, e2.Name as Manager\n",
            "FROM Employees e1\n",
            "FULL OUTER JOIN Employees e2\n",
            "ON e1.ManagerID = e2.ID]\n",
            "(Background on this error at: https://sqlalche.me/e/14/e3q8)\n"
          ]
        }
      ],
      "source": [
        "%%sql SELECT e1.Name as Employee, e2.Name as Manager\n",
        "FROM Employees e1\n",
        "FULL OUTER JOIN Employees e2\n",
        "ON e1.ManagerID = e2.ID\n"
      ]
    },
    {
      "cell_type": "markdown",
      "metadata": {
        "id": "0bUrsCPum6Hy"
      },
      "source": [
        "Can we capture full outer join using left thou?  😥 😥 😥"
      ]
    },
    {
      "cell_type": "code",
      "execution_count": null,
      "metadata": {
        "colab": {
          "base_uri": "https://localhost:8080/",
          "height": 243
        },
        "id": "4-vrA2JvnL76",
        "outputId": "70e9fd4a-db71-45ed-c92a-ae5e5cd44df0"
      },
      "outputs": [
        {
          "name": "stdout",
          "output_type": "stream",
          "text": [
            "   sqlite:///dsc100.db\n",
            " * sqlite:///test.db\n",
            "Done.\n"
          ]
        },
        {
          "data": {
            "text/html": [
              "<table>\n",
              "    <thead>\n",
              "        <tr>\n",
              "            <th>Employee</th>\n",
              "            <th>Manager</th>\n",
              "        </tr>\n",
              "    </thead>\n",
              "    <tbody>\n",
              "        <tr>\n",
              "            <td>None</td>\n",
              "            <td>Emily Davis</td>\n",
              "        </tr>\n",
              "        <tr>\n",
              "            <td>None</td>\n",
              "            <td>Michael Brown</td>\n",
              "        </tr>\n",
              "        <tr>\n",
              "            <td>Bob Johnson</td>\n",
              "            <td>None</td>\n",
              "        </tr>\n",
              "        <tr>\n",
              "            <td>Emily Davis</td>\n",
              "            <td>John Smith</td>\n",
              "        </tr>\n",
              "        <tr>\n",
              "            <td>Jane Doe</td>\n",
              "            <td>Bob Johnson</td>\n",
              "        </tr>\n",
              "        <tr>\n",
              "            <td>John Smith</td>\n",
              "            <td>Bob Johnson</td>\n",
              "        </tr>\n",
              "        <tr>\n",
              "            <td>Michael Brown</td>\n",
              "            <td>Jane Doe</td>\n",
              "        </tr>\n",
              "    </tbody>\n",
              "</table>"
            ],
            "text/plain": [
              "[(None, 'Emily Davis'),\n",
              " (None, 'Michael Brown'),\n",
              " ('Bob Johnson', None),\n",
              " ('Emily Davis', 'John Smith'),\n",
              " ('Jane Doe', 'Bob Johnson'),\n",
              " ('John Smith', 'Bob Johnson'),\n",
              " ('Michael Brown', 'Jane Doe')]"
            ]
          },
          "execution_count": 139,
          "metadata": {},
          "output_type": "execute_result"
        }
      ],
      "source": [
        "%%sql\n",
        "SELECT e1.Name as Employee, e2.Name as Manager\n",
        "FROM Employees e2\n",
        "LEft JOIN Employees e1\n",
        "ON e1.ManagerID = e2.ID\n",
        "UNION\n",
        "SELECT e1.Name as Employee, e2.Name as Manager\n",
        "FROM Employees e1\n",
        "LEft JOIN Employees e2\n",
        "ON e1.ManagerID = e2.ID"
      ]
    },
    {
      "cell_type": "code",
      "execution_count": null,
      "metadata": {
        "colab": {
          "base_uri": "https://localhost:8080/",
          "height": 200
        },
        "id": "L5OU9WCVR3rK",
        "outputId": "8a19ff7f-589b-493b-d3d9-0b25c46a9b00"
      },
      "outputs": [
        {
          "name": "stdout",
          "output_type": "stream",
          "text": [
            "   sqlite:///dsc100.db\n",
            " * sqlite:///test.db\n",
            "Done.\n"
          ]
        },
        {
          "data": {
            "text/html": [
              "<table>\n",
              "    <thead>\n",
              "        <tr>\n",
              "            <th>ID</th>\n",
              "            <th>Name</th>\n",
              "            <th>ManagerID</th>\n",
              "        </tr>\n",
              "    </thead>\n",
              "    <tbody>\n",
              "        <tr>\n",
              "            <td>1</td>\n",
              "            <td>John Smith</td>\n",
              "            <td>3</td>\n",
              "        </tr>\n",
              "        <tr>\n",
              "            <td>2</td>\n",
              "            <td>Jane Doe</td>\n",
              "            <td>3</td>\n",
              "        </tr>\n",
              "        <tr>\n",
              "            <td>3</td>\n",
              "            <td>Bob Johnson</td>\n",
              "            <td>None</td>\n",
              "        </tr>\n",
              "        <tr>\n",
              "            <td>4</td>\n",
              "            <td>Emily Davis</td>\n",
              "            <td>1</td>\n",
              "        </tr>\n",
              "        <tr>\n",
              "            <td>5</td>\n",
              "            <td>Michael Brown</td>\n",
              "            <td>2</td>\n",
              "        </tr>\n",
              "    </tbody>\n",
              "</table>"
            ],
            "text/plain": [
              "[(1, 'John Smith', 3),\n",
              " (2, 'Jane Doe', 3),\n",
              " (3, 'Bob Johnson', None),\n",
              " (4, 'Emily Davis', 1),\n",
              " (5, 'Michael Brown', 2)]"
            ]
          },
          "execution_count": 140,
          "metadata": {},
          "output_type": "execute_result"
        }
      ],
      "source": [
        "%%sql\n",
        "SELECT * FROM Employees;"
      ]
    },
    {
      "cell_type": "markdown",
      "metadata": {
        "id": "KDnJn_Vzn1Bm"
      },
      "source": [
        "Retrieve all employees who do not have a manager:"
      ]
    },
    {
      "cell_type": "code",
      "execution_count": null,
      "metadata": {
        "colab": {
          "base_uri": "https://localhost:8080/",
          "height": 97
        },
        "id": "vbK1DxnjnmNz",
        "outputId": "62d0bd09-76c2-44f3-8418-9a9872179cac"
      },
      "outputs": [
        {
          "name": "stdout",
          "output_type": "stream",
          "text": [
            " * sqlite:///dsc100.db\n",
            "Done.\n"
          ]
        },
        {
          "data": {
            "text/html": [
              "<table>\n",
              "    <thead>\n",
              "        <tr>\n",
              "            <th>Name</th>\n",
              "        </tr>\n",
              "    </thead>\n",
              "    <tbody>\n",
              "        <tr>\n",
              "            <td>Bob Johnson</td>\n",
              "        </tr>\n",
              "    </tbody>\n",
              "</table>"
            ],
            "text/plain": [
              "[('Bob Johnson',)]"
            ]
          },
          "execution_count": 29,
          "metadata": {},
          "output_type": "execute_result"
        }
      ],
      "source": [
        "%%sql\n",
        "SELECT Name\n",
        "FROM Employees\n",
        "WHERE ManagerID IS NULL\n",
        "\n"
      ]
    },
    {
      "cell_type": "markdown",
      "metadata": {
        "id": "SUlB0s1qSrBX"
      },
      "source": [
        "Retrieve the names of all employees who are also managers"
      ]
    },
    {
      "cell_type": "code",
      "execution_count": null,
      "metadata": {
        "colab": {
          "base_uri": "https://localhost:8080/",
          "height": 140
        },
        "id": "N17VIeVuoV6h",
        "outputId": "c0ac0733-3e2f-4f56-9c02-aadcd5467054"
      },
      "outputs": [
        {
          "name": "stdout",
          "output_type": "stream",
          "text": [
            " * sqlite:///dsc100.db\n",
            "Done.\n"
          ]
        },
        {
          "data": {
            "text/html": [
              "<table>\n",
              "    <thead>\n",
              "        <tr>\n",
              "            <th>name</th>\n",
              "        </tr>\n",
              "    </thead>\n",
              "    <tbody>\n",
              "        <tr>\n",
              "            <td>Bob Johnson</td>\n",
              "        </tr>\n",
              "        <tr>\n",
              "            <td>John Smith</td>\n",
              "        </tr>\n",
              "        <tr>\n",
              "            <td>Jane Doe</td>\n",
              "        </tr>\n",
              "    </tbody>\n",
              "</table>"
            ],
            "text/plain": [
              "[('Bob Johnson',), ('John Smith',), ('Jane Doe',)]"
            ]
          },
          "execution_count": 30,
          "metadata": {},
          "output_type": "execute_result"
        }
      ],
      "source": [
        "%%sql\n",
        "SELECT DISTINCT E1.Name as name\n",
        "FROM Employees E1\n",
        "JOIN Employees E2\n",
        "ON E1.ID = E2.ManagerID"
      ]
    },
    {
      "cell_type": "code",
      "execution_count": null,
      "metadata": {
        "colab": {
          "base_uri": "https://localhost:8080/",
          "height": 158
        },
        "id": "o1w5x396SxZ5",
        "outputId": "85b149cd-60d8-475b-dd60-ee44254f0a68"
      },
      "outputs": [
        {
          "name": "stdout",
          "output_type": "stream",
          "text": [
            "   sqlite:///dsc100.db\n",
            " * sqlite:///test.db\n",
            "Done.\n"
          ]
        },
        {
          "data": {
            "text/html": [
              "<table>\n",
              "    <thead>\n",
              "        <tr>\n",
              "            <th>Name</th>\n",
              "        </tr>\n",
              "    </thead>\n",
              "    <tbody>\n",
              "        <tr>\n",
              "            <td>John Smith</td>\n",
              "        </tr>\n",
              "        <tr>\n",
              "            <td>Jane Doe</td>\n",
              "        </tr>\n",
              "        <tr>\n",
              "            <td>Bob Johnson</td>\n",
              "        </tr>\n",
              "    </tbody>\n",
              "</table>"
            ],
            "text/plain": [
              "[('John Smith',), ('Jane Doe',), ('Bob Johnson',)]"
            ]
          },
          "execution_count": 141,
          "metadata": {},
          "output_type": "execute_result"
        }
      ],
      "source": [
        "%%sql\n",
        "SELECT Name FROM Employees WHERE ID IN (SELECT ManagerID FROM Employees);"
      ]
    },
    {
      "cell_type": "code",
      "execution_count": null,
      "metadata": {
        "colab": {
          "base_uri": "https://localhost:8080/"
        },
        "id": "C8iv27AmrccY",
        "outputId": "160fa4d9-9967-45d8-b93f-aba63bf58ae9"
      },
      "outputs": [
        {
          "name": "stdout",
          "output_type": "stream",
          "text": [
            "   sqlite:///dsc100.db\n",
            " * sqlite:///test.db\n",
            "Done.\n",
            "Done.\n",
            "Done.\n",
            "Done.\n"
          ]
        },
        {
          "data": {
            "text/plain": [
              "[]"
            ]
          },
          "execution_count": 142,
          "metadata": {},
          "output_type": "execute_result"
        }
      ],
      "source": [
        "%%sql\n",
        "\n",
        "-- create the Movie table\n",
        "CREATE TABLE Movie (\n",
        "    name varchar(50) PRIMARY KEY,\n",
        "    year integer,\n",
        "    genre varchar(50)\n",
        ");\n",
        "\n",
        "-- insert data into the Movie table\n",
        "INSERT INTO Movie (name, year, genre)\n",
        "VALUES ('Apocalypse Now', 1979, 'War'),\n",
        "       ('The Godfather', 1972, 'Crime'),\n",
        "       ('Planet Earth II', 2016, 'Nature Documentary'),\n",
        "       ('House of Gucci', 2021, 'Crime');\n",
        "\n",
        "-- create the ActedIn table\n",
        "CREATE TABLE ActedIn (\n",
        "    actorname varchar(20),\n",
        "    moviename varchar(20) REFERENCES Movie,\n",
        "    PRIMARY KEY (actorname, moviename)\n",
        ");\n",
        "\n",
        "-- insert data into the ActedIn table\n",
        "INSERT INTO ActedIn (actorname, moviename)\n",
        "VALUES ('Marlon Brando', 'Apocalypse Now'),\n",
        "       ('Al Pacino', 'The Godfather'),\n",
        "       ('Marlon Brando', 'The Godfather'),\n",
        "       ('Robert De Niro', 'House of Gucci');\n"
      ]
    },
    {
      "cell_type": "code",
      "execution_count": null,
      "metadata": {
        "colab": {
          "base_uri": "https://localhost:8080/",
          "height": 179
        },
        "id": "NdXl_we-TGGE",
        "outputId": "1ffde6cb-045f-4fcb-b762-e29940e6d1c8"
      },
      "outputs": [
        {
          "name": "stdout",
          "output_type": "stream",
          "text": [
            "   sqlite:///dsc100.db\n",
            " * sqlite:///test.db\n",
            "Done.\n"
          ]
        },
        {
          "data": {
            "text/html": [
              "<table>\n",
              "    <thead>\n",
              "        <tr>\n",
              "            <th>name</th>\n",
              "            <th>year</th>\n",
              "            <th>genre</th>\n",
              "        </tr>\n",
              "    </thead>\n",
              "    <tbody>\n",
              "        <tr>\n",
              "            <td>Apocalypse Now</td>\n",
              "            <td>1979</td>\n",
              "            <td>War</td>\n",
              "        </tr>\n",
              "        <tr>\n",
              "            <td>The Godfather</td>\n",
              "            <td>1972</td>\n",
              "            <td>Crime</td>\n",
              "        </tr>\n",
              "        <tr>\n",
              "            <td>Planet Earth II</td>\n",
              "            <td>2016</td>\n",
              "            <td>Nature Documentary</td>\n",
              "        </tr>\n",
              "        <tr>\n",
              "            <td>House of Gucci</td>\n",
              "            <td>2021</td>\n",
              "            <td>Crime</td>\n",
              "        </tr>\n",
              "    </tbody>\n",
              "</table>"
            ],
            "text/plain": [
              "[('Apocalypse Now', 1979, 'War'),\n",
              " ('The Godfather', 1972, 'Crime'),\n",
              " ('Planet Earth II', 2016, 'Nature Documentary'),\n",
              " ('House of Gucci', 2021, 'Crime')]"
            ]
          },
          "execution_count": 143,
          "metadata": {},
          "output_type": "execute_result"
        }
      ],
      "source": [
        "%%sql\n",
        "SELECT * FROM Movie;"
      ]
    },
    {
      "cell_type": "code",
      "execution_count": null,
      "metadata": {
        "colab": {
          "base_uri": "https://localhost:8080/",
          "height": 179
        },
        "id": "zIHDclr5TQ3e",
        "outputId": "31d2a4d2-de7f-4ea4-99c9-30299aa0f105"
      },
      "outputs": [
        {
          "name": "stdout",
          "output_type": "stream",
          "text": [
            "   sqlite:///dsc100.db\n",
            " * sqlite:///test.db\n",
            "Done.\n"
          ]
        },
        {
          "data": {
            "text/html": [
              "<table>\n",
              "    <thead>\n",
              "        <tr>\n",
              "            <th>actorname</th>\n",
              "            <th>moviename</th>\n",
              "        </tr>\n",
              "    </thead>\n",
              "    <tbody>\n",
              "        <tr>\n",
              "            <td>Marlon Brando</td>\n",
              "            <td>Apocalypse Now</td>\n",
              "        </tr>\n",
              "        <tr>\n",
              "            <td>Al Pacino</td>\n",
              "            <td>The Godfather</td>\n",
              "        </tr>\n",
              "        <tr>\n",
              "            <td>Marlon Brando</td>\n",
              "            <td>The Godfather</td>\n",
              "        </tr>\n",
              "        <tr>\n",
              "            <td>Robert De Niro</td>\n",
              "            <td>House of Gucci</td>\n",
              "        </tr>\n",
              "    </tbody>\n",
              "</table>"
            ],
            "text/plain": [
              "[('Marlon Brando', 'Apocalypse Now'),\n",
              " ('Al Pacino', 'The Godfather'),\n",
              " ('Marlon Brando', 'The Godfather'),\n",
              " ('Robert De Niro', 'House of Gucci')]"
            ]
          },
          "execution_count": 144,
          "metadata": {},
          "output_type": "execute_result"
        }
      ],
      "source": [
        "%%sql\n",
        "SELECT * FROM ActedIn;"
      ]
    },
    {
      "cell_type": "markdown",
      "metadata": {
        "id": "fTndggAbS8_A"
      },
      "source": [
        "Retrieve the names of movies and the corresponding actors who acted in them:"
      ]
    },
    {
      "cell_type": "code",
      "execution_count": null,
      "metadata": {
        "colab": {
          "base_uri": "https://localhost:8080/",
          "height": 179
        },
        "id": "b9BxbOe3unf7",
        "outputId": "d81c0e94-d846-4647-ebf3-e3a3a06b79f8"
      },
      "outputs": [
        {
          "name": "stdout",
          "output_type": "stream",
          "text": [
            "   sqlite:///dsc100.db\n",
            " * sqlite:///test.db\n",
            "Done.\n"
          ]
        },
        {
          "data": {
            "text/html": [
              "<table>\n",
              "    <thead>\n",
              "        <tr>\n",
              "            <th>name</th>\n",
              "            <th>actorname</th>\n",
              "        </tr>\n",
              "    </thead>\n",
              "    <tbody>\n",
              "        <tr>\n",
              "            <td>Apocalypse Now</td>\n",
              "            <td>Marlon Brando</td>\n",
              "        </tr>\n",
              "        <tr>\n",
              "            <td>The Godfather</td>\n",
              "            <td>Al Pacino</td>\n",
              "        </tr>\n",
              "        <tr>\n",
              "            <td>The Godfather</td>\n",
              "            <td>Marlon Brando</td>\n",
              "        </tr>\n",
              "        <tr>\n",
              "            <td>House of Gucci</td>\n",
              "            <td>Robert De Niro</td>\n",
              "        </tr>\n",
              "    </tbody>\n",
              "</table>"
            ],
            "text/plain": [
              "[('Apocalypse Now', 'Marlon Brando'),\n",
              " ('The Godfather', 'Al Pacino'),\n",
              " ('The Godfather', 'Marlon Brando'),\n",
              " ('House of Gucci', 'Robert De Niro')]"
            ]
          },
          "execution_count": 146,
          "metadata": {},
          "output_type": "execute_result"
        }
      ],
      "source": [
        "%%sql\n",
        "SELECT Movie.name, ActedIn.actorname\n",
        "FROM Movie\n",
        "JOIN ActedIn ON Movie.name = ActedIn.moviename;"
      ]
    },
    {
      "cell_type": "code",
      "execution_count": null,
      "metadata": {
        "colab": {
          "base_uri": "https://localhost:8080/",
          "height": 435
        },
        "id": "4O0VhY9oTf_r",
        "outputId": "cbe89239-1676-4d31-b878-d56909a7a06b"
      },
      "outputs": [
        {
          "name": "stdout",
          "output_type": "stream",
          "text": [
            "   sqlite:///dsc100.db\n",
            " * sqlite:///test.db\n",
            "Done.\n"
          ]
        },
        {
          "data": {
            "text/html": [
              "<table>\n",
              "    <thead>\n",
              "        <tr>\n",
              "            <th>name</th>\n",
              "            <th>year</th>\n",
              "            <th>genre</th>\n",
              "            <th>actorname</th>\n",
              "            <th>moviename</th>\n",
              "        </tr>\n",
              "    </thead>\n",
              "    <tbody>\n",
              "        <tr>\n",
              "            <td>Apocalypse Now</td>\n",
              "            <td>1979</td>\n",
              "            <td>War</td>\n",
              "            <td>Marlon Brando</td>\n",
              "            <td>Apocalypse Now</td>\n",
              "        </tr>\n",
              "        <tr>\n",
              "            <td>Apocalypse Now</td>\n",
              "            <td>1979</td>\n",
              "            <td>War</td>\n",
              "            <td>Al Pacino</td>\n",
              "            <td>The Godfather</td>\n",
              "        </tr>\n",
              "        <tr>\n",
              "            <td>Apocalypse Now</td>\n",
              "            <td>1979</td>\n",
              "            <td>War</td>\n",
              "            <td>Marlon Brando</td>\n",
              "            <td>The Godfather</td>\n",
              "        </tr>\n",
              "        <tr>\n",
              "            <td>Apocalypse Now</td>\n",
              "            <td>1979</td>\n",
              "            <td>War</td>\n",
              "            <td>Robert De Niro</td>\n",
              "            <td>House of Gucci</td>\n",
              "        </tr>\n",
              "        <tr>\n",
              "            <td>The Godfather</td>\n",
              "            <td>1972</td>\n",
              "            <td>Crime</td>\n",
              "            <td>Marlon Brando</td>\n",
              "            <td>Apocalypse Now</td>\n",
              "        </tr>\n",
              "        <tr>\n",
              "            <td>The Godfather</td>\n",
              "            <td>1972</td>\n",
              "            <td>Crime</td>\n",
              "            <td>Al Pacino</td>\n",
              "            <td>The Godfather</td>\n",
              "        </tr>\n",
              "        <tr>\n",
              "            <td>The Godfather</td>\n",
              "            <td>1972</td>\n",
              "            <td>Crime</td>\n",
              "            <td>Marlon Brando</td>\n",
              "            <td>The Godfather</td>\n",
              "        </tr>\n",
              "        <tr>\n",
              "            <td>The Godfather</td>\n",
              "            <td>1972</td>\n",
              "            <td>Crime</td>\n",
              "            <td>Robert De Niro</td>\n",
              "            <td>House of Gucci</td>\n",
              "        </tr>\n",
              "        <tr>\n",
              "            <td>Planet Earth II</td>\n",
              "            <td>2016</td>\n",
              "            <td>Nature Documentary</td>\n",
              "            <td>Marlon Brando</td>\n",
              "            <td>Apocalypse Now</td>\n",
              "        </tr>\n",
              "        <tr>\n",
              "            <td>Planet Earth II</td>\n",
              "            <td>2016</td>\n",
              "            <td>Nature Documentary</td>\n",
              "            <td>Al Pacino</td>\n",
              "            <td>The Godfather</td>\n",
              "        </tr>\n",
              "        <tr>\n",
              "            <td>Planet Earth II</td>\n",
              "            <td>2016</td>\n",
              "            <td>Nature Documentary</td>\n",
              "            <td>Marlon Brando</td>\n",
              "            <td>The Godfather</td>\n",
              "        </tr>\n",
              "        <tr>\n",
              "            <td>Planet Earth II</td>\n",
              "            <td>2016</td>\n",
              "            <td>Nature Documentary</td>\n",
              "            <td>Robert De Niro</td>\n",
              "            <td>House of Gucci</td>\n",
              "        </tr>\n",
              "        <tr>\n",
              "            <td>House of Gucci</td>\n",
              "            <td>2021</td>\n",
              "            <td>Crime</td>\n",
              "            <td>Marlon Brando</td>\n",
              "            <td>Apocalypse Now</td>\n",
              "        </tr>\n",
              "        <tr>\n",
              "            <td>House of Gucci</td>\n",
              "            <td>2021</td>\n",
              "            <td>Crime</td>\n",
              "            <td>Al Pacino</td>\n",
              "            <td>The Godfather</td>\n",
              "        </tr>\n",
              "        <tr>\n",
              "            <td>House of Gucci</td>\n",
              "            <td>2021</td>\n",
              "            <td>Crime</td>\n",
              "            <td>Marlon Brando</td>\n",
              "            <td>The Godfather</td>\n",
              "        </tr>\n",
              "        <tr>\n",
              "            <td>House of Gucci</td>\n",
              "            <td>2021</td>\n",
              "            <td>Crime</td>\n",
              "            <td>Robert De Niro</td>\n",
              "            <td>House of Gucci</td>\n",
              "        </tr>\n",
              "    </tbody>\n",
              "</table>"
            ],
            "text/plain": [
              "[('Apocalypse Now', 1979, 'War', 'Marlon Brando', 'Apocalypse Now'),\n",
              " ('Apocalypse Now', 1979, 'War', 'Al Pacino', 'The Godfather'),\n",
              " ('Apocalypse Now', 1979, 'War', 'Marlon Brando', 'The Godfather'),\n",
              " ('Apocalypse Now', 1979, 'War', 'Robert De Niro', 'House of Gucci'),\n",
              " ('The Godfather', 1972, 'Crime', 'Marlon Brando', 'Apocalypse Now'),\n",
              " ('The Godfather', 1972, 'Crime', 'Al Pacino', 'The Godfather'),\n",
              " ('The Godfather', 1972, 'Crime', 'Marlon Brando', 'The Godfather'),\n",
              " ('The Godfather', 1972, 'Crime', 'Robert De Niro', 'House of Gucci'),\n",
              " ('Planet Earth II', 2016, 'Nature Documentary', 'Marlon Brando', 'Apocalypse Now'),\n",
              " ('Planet Earth II', 2016, 'Nature Documentary', 'Al Pacino', 'The Godfather'),\n",
              " ('Planet Earth II', 2016, 'Nature Documentary', 'Marlon Brando', 'The Godfather'),\n",
              " ('Planet Earth II', 2016, 'Nature Documentary', 'Robert De Niro', 'House of Gucci'),\n",
              " ('House of Gucci', 2021, 'Crime', 'Marlon Brando', 'Apocalypse Now'),\n",
              " ('House of Gucci', 2021, 'Crime', 'Al Pacino', 'The Godfather'),\n",
              " ('House of Gucci', 2021, 'Crime', 'Marlon Brando', 'The Godfather'),\n",
              " ('House of Gucci', 2021, 'Crime', 'Robert De Niro', 'House of Gucci')]"
            ]
          },
          "execution_count": 148,
          "metadata": {},
          "output_type": "execute_result"
        }
      ],
      "source": [
        "%%sql\n",
        "SELECT Movie.name, ActedIn.actorname\n",
        "FROM Movie JOIN ActedIn;"
      ]
    },
    {
      "cell_type": "code",
      "execution_count": null,
      "metadata": {
        "colab": {
          "base_uri": "https://localhost:8080/",
          "height": 417
        },
        "id": "8HtBNWyuTmvZ",
        "outputId": "15880a54-19de-4097-8782-6ceeda892f19"
      },
      "outputs": [
        {
          "name": "stdout",
          "output_type": "stream",
          "text": [
            " * sqlite:///dsc100.db\n",
            "Done.\n"
          ]
        },
        {
          "data": {
            "text/html": [
              "<table>\n",
              "    <thead>\n",
              "        <tr>\n",
              "            <th>name</th>\n",
              "            <th>year</th>\n",
              "            <th>genre</th>\n",
              "            <th>actorname</th>\n",
              "            <th>moviename</th>\n",
              "        </tr>\n",
              "    </thead>\n",
              "    <tbody>\n",
              "        <tr>\n",
              "            <td>Apocalypse Now</td>\n",
              "            <td>1979</td>\n",
              "            <td>War</td>\n",
              "            <td>Marlon Brando</td>\n",
              "            <td>Apocalypse Now</td>\n",
              "        </tr>\n",
              "        <tr>\n",
              "            <td>Apocalypse Now</td>\n",
              "            <td>1979</td>\n",
              "            <td>War</td>\n",
              "            <td>Al Pacino</td>\n",
              "            <td>The Godfather</td>\n",
              "        </tr>\n",
              "        <tr>\n",
              "            <td>Apocalypse Now</td>\n",
              "            <td>1979</td>\n",
              "            <td>War</td>\n",
              "            <td>Marlon Brando</td>\n",
              "            <td>The Godfather</td>\n",
              "        </tr>\n",
              "        <tr>\n",
              "            <td>Apocalypse Now</td>\n",
              "            <td>1979</td>\n",
              "            <td>War</td>\n",
              "            <td>Robert De Niro</td>\n",
              "            <td>House of Gucci</td>\n",
              "        </tr>\n",
              "        <tr>\n",
              "            <td>The Godfather</td>\n",
              "            <td>1972</td>\n",
              "            <td>Crime</td>\n",
              "            <td>Marlon Brando</td>\n",
              "            <td>Apocalypse Now</td>\n",
              "        </tr>\n",
              "        <tr>\n",
              "            <td>The Godfather</td>\n",
              "            <td>1972</td>\n",
              "            <td>Crime</td>\n",
              "            <td>Al Pacino</td>\n",
              "            <td>The Godfather</td>\n",
              "        </tr>\n",
              "        <tr>\n",
              "            <td>The Godfather</td>\n",
              "            <td>1972</td>\n",
              "            <td>Crime</td>\n",
              "            <td>Marlon Brando</td>\n",
              "            <td>The Godfather</td>\n",
              "        </tr>\n",
              "        <tr>\n",
              "            <td>The Godfather</td>\n",
              "            <td>1972</td>\n",
              "            <td>Crime</td>\n",
              "            <td>Robert De Niro</td>\n",
              "            <td>House of Gucci</td>\n",
              "        </tr>\n",
              "        <tr>\n",
              "            <td>Planet Earth II</td>\n",
              "            <td>2016</td>\n",
              "            <td>Nature Documentary</td>\n",
              "            <td>Marlon Brando</td>\n",
              "            <td>Apocalypse Now</td>\n",
              "        </tr>\n",
              "        <tr>\n",
              "            <td>Planet Earth II</td>\n",
              "            <td>2016</td>\n",
              "            <td>Nature Documentary</td>\n",
              "            <td>Al Pacino</td>\n",
              "            <td>The Godfather</td>\n",
              "        </tr>\n",
              "        <tr>\n",
              "            <td>Planet Earth II</td>\n",
              "            <td>2016</td>\n",
              "            <td>Nature Documentary</td>\n",
              "            <td>Marlon Brando</td>\n",
              "            <td>The Godfather</td>\n",
              "        </tr>\n",
              "        <tr>\n",
              "            <td>Planet Earth II</td>\n",
              "            <td>2016</td>\n",
              "            <td>Nature Documentary</td>\n",
              "            <td>Robert De Niro</td>\n",
              "            <td>House of Gucci</td>\n",
              "        </tr>\n",
              "        <tr>\n",
              "            <td>House of Gucci</td>\n",
              "            <td>2021</td>\n",
              "            <td>Crime</td>\n",
              "            <td>Marlon Brando</td>\n",
              "            <td>Apocalypse Now</td>\n",
              "        </tr>\n",
              "        <tr>\n",
              "            <td>House of Gucci</td>\n",
              "            <td>2021</td>\n",
              "            <td>Crime</td>\n",
              "            <td>Al Pacino</td>\n",
              "            <td>The Godfather</td>\n",
              "        </tr>\n",
              "        <tr>\n",
              "            <td>House of Gucci</td>\n",
              "            <td>2021</td>\n",
              "            <td>Crime</td>\n",
              "            <td>Marlon Brando</td>\n",
              "            <td>The Godfather</td>\n",
              "        </tr>\n",
              "        <tr>\n",
              "            <td>House of Gucci</td>\n",
              "            <td>2021</td>\n",
              "            <td>Crime</td>\n",
              "            <td>Robert De Niro</td>\n",
              "            <td>House of Gucci</td>\n",
              "        </tr>\n",
              "    </tbody>\n",
              "</table>"
            ],
            "text/plain": [
              "[('Apocalypse Now', 1979, 'War', 'Marlon Brando', 'Apocalypse Now'),\n",
              " ('Apocalypse Now', 1979, 'War', 'Al Pacino', 'The Godfather'),\n",
              " ('Apocalypse Now', 1979, 'War', 'Marlon Brando', 'The Godfather'),\n",
              " ('Apocalypse Now', 1979, 'War', 'Robert De Niro', 'House of Gucci'),\n",
              " ('The Godfather', 1972, 'Crime', 'Marlon Brando', 'Apocalypse Now'),\n",
              " ('The Godfather', 1972, 'Crime', 'Al Pacino', 'The Godfather'),\n",
              " ('The Godfather', 1972, 'Crime', 'Marlon Brando', 'The Godfather'),\n",
              " ('The Godfather', 1972, 'Crime', 'Robert De Niro', 'House of Gucci'),\n",
              " ('Planet Earth II', 2016, 'Nature Documentary', 'Marlon Brando', 'Apocalypse Now'),\n",
              " ('Planet Earth II', 2016, 'Nature Documentary', 'Al Pacino', 'The Godfather'),\n",
              " ('Planet Earth II', 2016, 'Nature Documentary', 'Marlon Brando', 'The Godfather'),\n",
              " ('Planet Earth II', 2016, 'Nature Documentary', 'Robert De Niro', 'House of Gucci'),\n",
              " ('House of Gucci', 2021, 'Crime', 'Marlon Brando', 'Apocalypse Now'),\n",
              " ('House of Gucci', 2021, 'Crime', 'Al Pacino', 'The Godfather'),\n",
              " ('House of Gucci', 2021, 'Crime', 'Marlon Brando', 'The Godfather'),\n",
              " ('House of Gucci', 2021, 'Crime', 'Robert De Niro', 'House of Gucci')]"
            ]
          },
          "execution_count": 41,
          "metadata": {},
          "output_type": "execute_result"
        }
      ],
      "source": [
        "%%sql\n",
        "SELECT *\n",
        "FROM Movie , ActedIn;"
      ]
    },
    {
      "cell_type": "code",
      "execution_count": null,
      "metadata": {
        "colab": {
          "base_uri": "https://localhost:8080/"
        },
        "id": "j3syCao9_2GB",
        "outputId": "663121a6-2361-4be0-d36d-3cfc764f9056"
      },
      "outputs": [
        {
          "name": "stdout",
          "output_type": "stream",
          "text": [
            "   sqlite:///dsc100.db\n",
            " * sqlite:///test.db\n",
            "Done.\n",
            "(sqlite3.OperationalError) near \"WHERE\": syntax error\n",
            "[SQL: WHERE a1.moviename = 'Apocalypse now' AND a2.moviename = 'The god father';]\n",
            "(Background on this error at: https://sqlalche.me/e/14/e3q8)\n"
          ]
        }
      ],
      "source": [
        "%%sql\n",
        "SELECT *\n",
        "FROM ActedIn a1\n",
        "JOIN ActedIn a2\n",
        "ON a1.actorname = a2.actorname;\n",
        "WHERE a1.moviename = 'Apocalypse now' AND a2.moviename = 'The god father';\n"
      ]
    },
    {
      "cell_type": "markdown",
      "metadata": {
        "id": "3b5DFT_iTd3o"
      },
      "source": [
        "Retrieve the names of actors who acted in both 'Apocalypse now' and 'The god father':"
      ]
    },
    {
      "cell_type": "code",
      "execution_count": null,
      "metadata": {
        "colab": {
          "base_uri": "https://localhost:8080/",
          "height": 75
        },
        "id": "ZaBFbm6huqc-",
        "outputId": "b18fc863-2522-41c0-f50f-8310babdde5d"
      },
      "outputs": [
        {
          "name": "stdout",
          "output_type": "stream",
          "text": [
            " * sqlite:///dsc100.db\n",
            "Done.\n"
          ]
        },
        {
          "data": {
            "text/html": [
              "<table>\n",
              "    <thead>\n",
              "        <tr>\n",
              "            <th>actorname</th>\n",
              "        </tr>\n",
              "    </thead>\n",
              "    <tbody>\n",
              "    </tbody>\n",
              "</table>"
            ],
            "text/plain": [
              "[]"
            ]
          },
          "execution_count": 42,
          "metadata": {},
          "output_type": "execute_result"
        }
      ],
      "source": [
        "%%sql\n",
        "SELECT DISTINCT a1.actorname\n",
        "FROM ActedIn a1\n",
        "JOIN ActedIn a2\n",
        "ON a1.actorname = a2.actorname\n",
        "WHERE a1.moviename = 'Apocalypse now' AND a2.moviename = 'The god father';"
      ]
    },
    {
      "cell_type": "markdown",
      "metadata": {
        "id": "oicqkDz4Tull"
      },
      "source": [
        "Retrieve the names of movies that were released in the 70s and the corresponding actors who acted in them:\n"
      ]
    },
    {
      "cell_type": "code",
      "execution_count": null,
      "metadata": {
        "colab": {
          "base_uri": "https://localhost:8080/",
          "height": 158
        },
        "id": "Ny0vLuI9uvt2",
        "outputId": "c64d4c05-b20d-45d6-e219-4dee93dac073"
      },
      "outputs": [
        {
          "name": "stdout",
          "output_type": "stream",
          "text": [
            "   sqlite:///dsc100.db\n",
            " * sqlite:///test.db\n",
            "Done.\n"
          ]
        },
        {
          "data": {
            "text/html": [
              "<table>\n",
              "    <thead>\n",
              "        <tr>\n",
              "            <th>name</th>\n",
              "            <th>actorname</th>\n",
              "        </tr>\n",
              "    </thead>\n",
              "    <tbody>\n",
              "        <tr>\n",
              "            <td>Apocalypse Now</td>\n",
              "            <td>Marlon Brando</td>\n",
              "        </tr>\n",
              "        <tr>\n",
              "            <td>The Godfather</td>\n",
              "            <td>Al Pacino</td>\n",
              "        </tr>\n",
              "        <tr>\n",
              "            <td>The Godfather</td>\n",
              "            <td>Marlon Brando</td>\n",
              "        </tr>\n",
              "    </tbody>\n",
              "</table>"
            ],
            "text/plain": [
              "[('Apocalypse Now', 'Marlon Brando'),\n",
              " ('The Godfather', 'Al Pacino'),\n",
              " ('The Godfather', 'Marlon Brando')]"
            ]
          },
          "execution_count": 152,
          "metadata": {},
          "output_type": "execute_result"
        }
      ],
      "source": [
        "%%sql\n",
        "\n",
        "SELECT Movie.name, ActedIn.actorname\n",
        "FROM Movie\n",
        "JOIN ActedIn ON Movie.name = ActedIn.moviename\n",
        "WHERE Movie.year BETWEEN 1970 AND 1979;"
      ]
    },
    {
      "cell_type": "markdown",
      "metadata": {
        "id": "65JibAhnT3yg"
      },
      "source": [
        "The BETWEEN operator is a logical operator that tests whether a value is in range of values. If the value is in the specified range, the BETWEEN operator returns true. The BETWEEN operator can be used in the WHERE clause of the SELECT, DELETE, UPDATE, and REPLACE statements."
      ]
    },
    {
      "cell_type": "markdown",
      "metadata": {
        "id": "Z6HXjmMGUKQ7"
      },
      "source": [
        "Return all movie genres that Marlon Brando has acted in"
      ]
    },
    {
      "cell_type": "code",
      "execution_count": null,
      "metadata": {
        "colab": {
          "base_uri": "https://localhost:8080/",
          "height": 136
        },
        "id": "4ycjFGJotiqD",
        "outputId": "ff0a4dbe-6da9-4f12-fe66-494f4a536fb2"
      },
      "outputs": [
        {
          "name": "stdout",
          "output_type": "stream",
          "text": [
            "   sqlite:///dsc100.db\n",
            " * sqlite:///test.db\n",
            "Done.\n"
          ]
        },
        {
          "data": {
            "text/html": [
              "<table>\n",
              "    <thead>\n",
              "        <tr>\n",
              "            <th>genre</th>\n",
              "        </tr>\n",
              "    </thead>\n",
              "    <tbody>\n",
              "        <tr>\n",
              "            <td>War</td>\n",
              "        </tr>\n",
              "        <tr>\n",
              "            <td>Crime</td>\n",
              "        </tr>\n",
              "    </tbody>\n",
              "</table>"
            ],
            "text/plain": [
              "[('War',), ('Crime',)]"
            ]
          },
          "execution_count": 153,
          "metadata": {},
          "output_type": "execute_result"
        }
      ],
      "source": [
        "%%sql\n",
        "SELECT DISTINCT genre\n",
        "FROM   Movie Join ActedIN\n",
        "ON Movie.name= ActedIN.moviename\n",
        "WHERE ActedIN.actorname='Marlon Brando';"
      ]
    },
    {
      "cell_type": "code",
      "execution_count": null,
      "metadata": {
        "colab": {
          "base_uri": "https://localhost:8080/",
          "height": 118
        },
        "id": "s7INJCTmt42X",
        "outputId": "fc881680-c8fb-4e4e-ad18-da1400696dcc"
      },
      "outputs": [
        {
          "name": "stdout",
          "output_type": "stream",
          "text": [
            " * sqlite:///dsc100.db\n",
            "Done.\n"
          ]
        },
        {
          "data": {
            "text/html": [
              "<table>\n",
              "    <thead>\n",
              "        <tr>\n",
              "            <th>name</th>\n",
              "            <th>year</th>\n",
              "            <th>genre</th>\n",
              "            <th>actorname</th>\n",
              "            <th>moviename</th>\n",
              "        </tr>\n",
              "    </thead>\n",
              "    <tbody>\n",
              "        <tr>\n",
              "            <td>Apocalypse Now</td>\n",
              "            <td>1979</td>\n",
              "            <td>War</td>\n",
              "            <td>Marlon Brando</td>\n",
              "            <td>Apocalypse Now</td>\n",
              "        </tr>\n",
              "        <tr>\n",
              "            <td>The Godfather</td>\n",
              "            <td>1972</td>\n",
              "            <td>Crime</td>\n",
              "            <td>Marlon Brando</td>\n",
              "            <td>The Godfather</td>\n",
              "        </tr>\n",
              "    </tbody>\n",
              "</table>"
            ],
            "text/plain": [
              "[('Apocalypse Now', 1979, 'War', 'Marlon Brando', 'Apocalypse Now'),\n",
              " ('The Godfather', 1972, 'Crime', 'Marlon Brando', 'The Godfather')]"
            ]
          },
          "execution_count": 44,
          "metadata": {},
          "output_type": "execute_result"
        }
      ],
      "source": [
        "%%sql\n",
        "-- the following returns the entire information about movies\n",
        "SELECT *\n",
        "FROM   Movie, ActedIN\n",
        "WHERE  Movie.name= ActedIN.moviename AND ActedIN.actorname='Marlon Brando';"
      ]
    },
    {
      "cell_type": "code",
      "execution_count": null,
      "metadata": {
        "colab": {
          "base_uri": "https://localhost:8080/",
          "height": 264
        },
        "id": "d3sDrC3jt7c_",
        "outputId": "4a141605-0d96-4c8e-84a4-6711cee462e6"
      },
      "outputs": [
        {
          "name": "stdout",
          "output_type": "stream",
          "text": [
            "   sqlite:///dsc100.db\n",
            " * sqlite:///test.db\n",
            "Done.\n"
          ]
        },
        {
          "data": {
            "text/html": [
              "<table>\n",
              "    <thead>\n",
              "        <tr>\n",
              "            <th>name</th>\n",
              "            <th>year</th>\n",
              "            <th>genre</th>\n",
              "            <th>actorname</th>\n",
              "            <th>moviename</th>\n",
              "        </tr>\n",
              "    </thead>\n",
              "    <tbody>\n",
              "        <tr>\n",
              "            <td>Apocalypse Now</td>\n",
              "            <td>1979</td>\n",
              "            <td>War</td>\n",
              "            <td>Marlon Brando</td>\n",
              "            <td>Apocalypse Now</td>\n",
              "        </tr>\n",
              "        <tr>\n",
              "            <td>The Godfather</td>\n",
              "            <td>1972</td>\n",
              "            <td>Crime</td>\n",
              "            <td>Marlon Brando</td>\n",
              "            <td>Apocalypse Now</td>\n",
              "        </tr>\n",
              "        <tr>\n",
              "            <td>Planet Earth II</td>\n",
              "            <td>2016</td>\n",
              "            <td>Nature Documentary</td>\n",
              "            <td>Marlon Brando</td>\n",
              "            <td>Apocalypse Now</td>\n",
              "        </tr>\n",
              "        <tr>\n",
              "            <td>House of Gucci</td>\n",
              "            <td>2021</td>\n",
              "            <td>Crime</td>\n",
              "            <td>Marlon Brando</td>\n",
              "            <td>Apocalypse Now</td>\n",
              "        </tr>\n",
              "        <tr>\n",
              "            <td>Apocalypse Now</td>\n",
              "            <td>1979</td>\n",
              "            <td>War</td>\n",
              "            <td>Marlon Brando</td>\n",
              "            <td>The Godfather</td>\n",
              "        </tr>\n",
              "        <tr>\n",
              "            <td>The Godfather</td>\n",
              "            <td>1972</td>\n",
              "            <td>Crime</td>\n",
              "            <td>Marlon Brando</td>\n",
              "            <td>The Godfather</td>\n",
              "        </tr>\n",
              "        <tr>\n",
              "            <td>Planet Earth II</td>\n",
              "            <td>2016</td>\n",
              "            <td>Nature Documentary</td>\n",
              "            <td>Marlon Brando</td>\n",
              "            <td>The Godfather</td>\n",
              "        </tr>\n",
              "        <tr>\n",
              "            <td>House of Gucci</td>\n",
              "            <td>2021</td>\n",
              "            <td>Crime</td>\n",
              "            <td>Marlon Brando</td>\n",
              "            <td>The Godfather</td>\n",
              "        </tr>\n",
              "    </tbody>\n",
              "</table>"
            ],
            "text/plain": [
              "[('Apocalypse Now', 1979, 'War', 'Marlon Brando', 'Apocalypse Now'),\n",
              " ('The Godfather', 1972, 'Crime', 'Marlon Brando', 'Apocalypse Now'),\n",
              " ('Planet Earth II', 2016, 'Nature Documentary', 'Marlon Brando', 'Apocalypse Now'),\n",
              " ('House of Gucci', 2021, 'Crime', 'Marlon Brando', 'Apocalypse Now'),\n",
              " ('Apocalypse Now', 1979, 'War', 'Marlon Brando', 'The Godfather'),\n",
              " ('The Godfather', 1972, 'Crime', 'Marlon Brando', 'The Godfather'),\n",
              " ('Planet Earth II', 2016, 'Nature Documentary', 'Marlon Brando', 'The Godfather'),\n",
              " ('House of Gucci', 2021, 'Crime', 'Marlon Brando', 'The Godfather')]"
            ]
          },
          "execution_count": 154,
          "metadata": {},
          "output_type": "execute_result"
        }
      ],
      "source": [
        "%%sql\n",
        "-- the following is wrong\n",
        "\n",
        "SELECT *\n",
        "FROM   Movie, ActedIN\n",
        "WHERE  ActedIN.actorname='Marlon Brando';"
      ]
    },
    {
      "cell_type": "code",
      "execution_count": null,
      "metadata": {
        "colab": {
          "base_uri": "https://localhost:8080/",
          "height": 161
        },
        "id": "Bsk0uauOUf6n",
        "outputId": "2efb61ab-4201-4480-d73e-350e4bae5066"
      },
      "outputs": [
        {
          "name": "stdout",
          "output_type": "stream",
          "text": [
            " * sqlite:///dsc100.db\n",
            "Done.\n"
          ]
        },
        {
          "data": {
            "text/html": [
              "<table>\n",
              "    <thead>\n",
              "        <tr>\n",
              "            <th>actorname</th>\n",
              "            <th>moviename</th>\n",
              "        </tr>\n",
              "    </thead>\n",
              "    <tbody>\n",
              "        <tr>\n",
              "            <td>Marlon Brando</td>\n",
              "            <td>Apocalypse Now</td>\n",
              "        </tr>\n",
              "        <tr>\n",
              "            <td>Al Pacino</td>\n",
              "            <td>The Godfather</td>\n",
              "        </tr>\n",
              "        <tr>\n",
              "            <td>Marlon Brando</td>\n",
              "            <td>The Godfather</td>\n",
              "        </tr>\n",
              "        <tr>\n",
              "            <td>Robert De Niro</td>\n",
              "            <td>House of Gucci</td>\n",
              "        </tr>\n",
              "    </tbody>\n",
              "</table>"
            ],
            "text/plain": [
              "[('Marlon Brando', 'Apocalypse Now'),\n",
              " ('Al Pacino', 'The Godfather'),\n",
              " ('Marlon Brando', 'The Godfather'),\n",
              " ('Robert De Niro', 'House of Gucci')]"
            ]
          },
          "execution_count": 46,
          "metadata": {},
          "output_type": "execute_result"
        }
      ],
      "source": [
        "%%sql\n",
        "SELECT * FROM ActedIn;"
      ]
    },
    {
      "cell_type": "code",
      "execution_count": null,
      "metadata": {
        "colab": {
          "base_uri": "https://localhost:8080/",
          "height": 161
        },
        "id": "U13zEoUMUsMu",
        "outputId": "8089be75-b1af-42cd-f886-7a99b2192a1a"
      },
      "outputs": [
        {
          "name": "stdout",
          "output_type": "stream",
          "text": [
            " * sqlite:///dsc100.db\n",
            "Done.\n"
          ]
        },
        {
          "data": {
            "text/html": [
              "<table>\n",
              "    <thead>\n",
              "        <tr>\n",
              "            <th>name</th>\n",
              "            <th>year</th>\n",
              "            <th>genre</th>\n",
              "        </tr>\n",
              "    </thead>\n",
              "    <tbody>\n",
              "        <tr>\n",
              "            <td>Apocalypse Now</td>\n",
              "            <td>1979</td>\n",
              "            <td>War</td>\n",
              "        </tr>\n",
              "        <tr>\n",
              "            <td>The Godfather</td>\n",
              "            <td>1972</td>\n",
              "            <td>Crime</td>\n",
              "        </tr>\n",
              "        <tr>\n",
              "            <td>Planet Earth II</td>\n",
              "            <td>2016</td>\n",
              "            <td>Nature Documentary</td>\n",
              "        </tr>\n",
              "        <tr>\n",
              "            <td>House of Gucci</td>\n",
              "            <td>2021</td>\n",
              "            <td>Crime</td>\n",
              "        </tr>\n",
              "    </tbody>\n",
              "</table>"
            ],
            "text/plain": [
              "[('Apocalypse Now', 1979, 'War'),\n",
              " ('The Godfather', 1972, 'Crime'),\n",
              " ('Planet Earth II', 2016, 'Nature Documentary'),\n",
              " ('House of Gucci', 2021, 'Crime')]"
            ]
          },
          "execution_count": 48,
          "metadata": {},
          "output_type": "execute_result"
        }
      ],
      "source": [
        "%%sql\n",
        "SELECT * FROM Movie;"
      ]
    },
    {
      "cell_type": "code",
      "execution_count": null,
      "metadata": {
        "colab": {
          "base_uri": "https://localhost:8080/",
          "height": 161
        },
        "id": "Zy9NqF2uWxGT",
        "outputId": "a6424efa-efef-4fd5-8790-1a564a9994a1"
      },
      "outputs": [
        {
          "name": "stdout",
          "output_type": "stream",
          "text": [
            " * sqlite:///dsc100.db\n",
            "Done.\n"
          ]
        },
        {
          "data": {
            "text/html": [
              "<table>\n",
              "    <thead>\n",
              "        <tr>\n",
              "            <th>actorname</th>\n",
              "            <th>moviename</th>\n",
              "        </tr>\n",
              "    </thead>\n",
              "    <tbody>\n",
              "        <tr>\n",
              "            <td>Marlon Brando</td>\n",
              "            <td>Apocalypse Now</td>\n",
              "        </tr>\n",
              "        <tr>\n",
              "            <td>Al Pacino</td>\n",
              "            <td>The Godfather</td>\n",
              "        </tr>\n",
              "        <tr>\n",
              "            <td>Marlon Brando</td>\n",
              "            <td>The Godfather</td>\n",
              "        </tr>\n",
              "        <tr>\n",
              "            <td>Robert De Niro</td>\n",
              "            <td>House of Gucci</td>\n",
              "        </tr>\n",
              "    </tbody>\n",
              "</table>"
            ],
            "text/plain": [
              "[('Marlon Brando', 'Apocalypse Now'),\n",
              " ('Al Pacino', 'The Godfather'),\n",
              " ('Marlon Brando', 'The Godfather'),\n",
              " ('Robert De Niro', 'House of Gucci')]"
            ]
          },
          "execution_count": 68,
          "metadata": {},
          "output_type": "execute_result"
        }
      ],
      "source": [
        "%%sql\n",
        "SELECT *\n",
        "FROM ActedIn"
      ]
    },
    {
      "cell_type": "markdown",
      "metadata": {
        "id": "pceJSfZdUVvv"
      },
      "source": [
        "Retrieve the names of actors who acted in both 'Apocalypse now' and 'The god father':"
      ]
    },
    {
      "cell_type": "code",
      "execution_count": null,
      "metadata": {
        "colab": {
          "base_uri": "https://localhost:8080/",
          "height": 417
        },
        "id": "hn8OlsxIVEo3",
        "outputId": "02d961f2-09df-486b-d19a-e96da02b96b6"
      },
      "outputs": [
        {
          "name": "stdout",
          "output_type": "stream",
          "text": [
            " * sqlite:///dsc100.db\n",
            "Done.\n"
          ]
        },
        {
          "data": {
            "text/html": [
              "<table>\n",
              "    <thead>\n",
              "        <tr>\n",
              "            <th>actorname</th>\n",
              "            <th>moviename</th>\n",
              "            <th>actorname_1</th>\n",
              "            <th>moviename_1</th>\n",
              "        </tr>\n",
              "    </thead>\n",
              "    <tbody>\n",
              "        <tr>\n",
              "            <td>Marlon Brando</td>\n",
              "            <td>Apocalypse Now</td>\n",
              "            <td>Marlon Brando</td>\n",
              "            <td>Apocalypse Now</td>\n",
              "        </tr>\n",
              "        <tr>\n",
              "            <td>Marlon Brando</td>\n",
              "            <td>Apocalypse Now</td>\n",
              "            <td>Al Pacino</td>\n",
              "            <td>The Godfather</td>\n",
              "        </tr>\n",
              "        <tr>\n",
              "            <td>Marlon Brando</td>\n",
              "            <td>Apocalypse Now</td>\n",
              "            <td>Marlon Brando</td>\n",
              "            <td>The Godfather</td>\n",
              "        </tr>\n",
              "        <tr>\n",
              "            <td>Marlon Brando</td>\n",
              "            <td>Apocalypse Now</td>\n",
              "            <td>Robert De Niro</td>\n",
              "            <td>House of Gucci</td>\n",
              "        </tr>\n",
              "        <tr>\n",
              "            <td>Al Pacino</td>\n",
              "            <td>The Godfather</td>\n",
              "            <td>Marlon Brando</td>\n",
              "            <td>Apocalypse Now</td>\n",
              "        </tr>\n",
              "        <tr>\n",
              "            <td>Al Pacino</td>\n",
              "            <td>The Godfather</td>\n",
              "            <td>Al Pacino</td>\n",
              "            <td>The Godfather</td>\n",
              "        </tr>\n",
              "        <tr>\n",
              "            <td>Al Pacino</td>\n",
              "            <td>The Godfather</td>\n",
              "            <td>Marlon Brando</td>\n",
              "            <td>The Godfather</td>\n",
              "        </tr>\n",
              "        <tr>\n",
              "            <td>Al Pacino</td>\n",
              "            <td>The Godfather</td>\n",
              "            <td>Robert De Niro</td>\n",
              "            <td>House of Gucci</td>\n",
              "        </tr>\n",
              "        <tr>\n",
              "            <td>Marlon Brando</td>\n",
              "            <td>The Godfather</td>\n",
              "            <td>Marlon Brando</td>\n",
              "            <td>Apocalypse Now</td>\n",
              "        </tr>\n",
              "        <tr>\n",
              "            <td>Marlon Brando</td>\n",
              "            <td>The Godfather</td>\n",
              "            <td>Al Pacino</td>\n",
              "            <td>The Godfather</td>\n",
              "        </tr>\n",
              "        <tr>\n",
              "            <td>Marlon Brando</td>\n",
              "            <td>The Godfather</td>\n",
              "            <td>Marlon Brando</td>\n",
              "            <td>The Godfather</td>\n",
              "        </tr>\n",
              "        <tr>\n",
              "            <td>Marlon Brando</td>\n",
              "            <td>The Godfather</td>\n",
              "            <td>Robert De Niro</td>\n",
              "            <td>House of Gucci</td>\n",
              "        </tr>\n",
              "        <tr>\n",
              "            <td>Robert De Niro</td>\n",
              "            <td>House of Gucci</td>\n",
              "            <td>Marlon Brando</td>\n",
              "            <td>Apocalypse Now</td>\n",
              "        </tr>\n",
              "        <tr>\n",
              "            <td>Robert De Niro</td>\n",
              "            <td>House of Gucci</td>\n",
              "            <td>Al Pacino</td>\n",
              "            <td>The Godfather</td>\n",
              "        </tr>\n",
              "        <tr>\n",
              "            <td>Robert De Niro</td>\n",
              "            <td>House of Gucci</td>\n",
              "            <td>Marlon Brando</td>\n",
              "            <td>The Godfather</td>\n",
              "        </tr>\n",
              "        <tr>\n",
              "            <td>Robert De Niro</td>\n",
              "            <td>House of Gucci</td>\n",
              "            <td>Robert De Niro</td>\n",
              "            <td>House of Gucci</td>\n",
              "        </tr>\n",
              "    </tbody>\n",
              "</table>"
            ],
            "text/plain": [
              "[('Marlon Brando', 'Apocalypse Now', 'Marlon Brando', 'Apocalypse Now'),\n",
              " ('Marlon Brando', 'Apocalypse Now', 'Al Pacino', 'The Godfather'),\n",
              " ('Marlon Brando', 'Apocalypse Now', 'Marlon Brando', 'The Godfather'),\n",
              " ('Marlon Brando', 'Apocalypse Now', 'Robert De Niro', 'House of Gucci'),\n",
              " ('Al Pacino', 'The Godfather', 'Marlon Brando', 'Apocalypse Now'),\n",
              " ('Al Pacino', 'The Godfather', 'Al Pacino', 'The Godfather'),\n",
              " ('Al Pacino', 'The Godfather', 'Marlon Brando', 'The Godfather'),\n",
              " ('Al Pacino', 'The Godfather', 'Robert De Niro', 'House of Gucci'),\n",
              " ('Marlon Brando', 'The Godfather', 'Marlon Brando', 'Apocalypse Now'),\n",
              " ('Marlon Brando', 'The Godfather', 'Al Pacino', 'The Godfather'),\n",
              " ('Marlon Brando', 'The Godfather', 'Marlon Brando', 'The Godfather'),\n",
              " ('Marlon Brando', 'The Godfather', 'Robert De Niro', 'House of Gucci'),\n",
              " ('Robert De Niro', 'House of Gucci', 'Marlon Brando', 'Apocalypse Now'),\n",
              " ('Robert De Niro', 'House of Gucci', 'Al Pacino', 'The Godfather'),\n",
              " ('Robert De Niro', 'House of Gucci', 'Marlon Brando', 'The Godfather'),\n",
              " ('Robert De Niro', 'House of Gucci', 'Robert De Niro', 'House of Gucci')]"
            ]
          },
          "execution_count": 59,
          "metadata": {},
          "output_type": "execute_result"
        }
      ],
      "source": [
        "%%sql\n",
        "SELECT *\n",
        "FROM ActedIn AS a1\n",
        "JOIN ActedIn AS a2;"
      ]
    },
    {
      "cell_type": "code",
      "execution_count": null,
      "metadata": {
        "colab": {
          "base_uri": "https://localhost:8080/",
          "height": 204
        },
        "id": "4YPOtdOJWCbt",
        "outputId": "81ae2189-d6ef-4695-d820-c4e60633867f"
      },
      "outputs": [
        {
          "name": "stdout",
          "output_type": "stream",
          "text": [
            " * sqlite:///dsc100.db\n",
            "Done.\n"
          ]
        },
        {
          "data": {
            "text/html": [
              "<table>\n",
              "    <thead>\n",
              "        <tr>\n",
              "            <th>actorname</th>\n",
              "            <th>moviename</th>\n",
              "            <th>actorname_1</th>\n",
              "            <th>moviename_1</th>\n",
              "        </tr>\n",
              "    </thead>\n",
              "    <tbody>\n",
              "        <tr>\n",
              "            <td>Marlon Brando</td>\n",
              "            <td>Apocalypse Now</td>\n",
              "            <td>Marlon Brando</td>\n",
              "            <td>Apocalypse Now</td>\n",
              "        </tr>\n",
              "        <tr>\n",
              "            <td>Marlon Brando</td>\n",
              "            <td>Apocalypse Now</td>\n",
              "            <td>Marlon Brando</td>\n",
              "            <td>The Godfather</td>\n",
              "        </tr>\n",
              "        <tr>\n",
              "            <td>Al Pacino</td>\n",
              "            <td>The Godfather</td>\n",
              "            <td>Al Pacino</td>\n",
              "            <td>The Godfather</td>\n",
              "        </tr>\n",
              "        <tr>\n",
              "            <td>Marlon Brando</td>\n",
              "            <td>The Godfather</td>\n",
              "            <td>Marlon Brando</td>\n",
              "            <td>Apocalypse Now</td>\n",
              "        </tr>\n",
              "        <tr>\n",
              "            <td>Marlon Brando</td>\n",
              "            <td>The Godfather</td>\n",
              "            <td>Marlon Brando</td>\n",
              "            <td>The Godfather</td>\n",
              "        </tr>\n",
              "        <tr>\n",
              "            <td>Robert De Niro</td>\n",
              "            <td>House of Gucci</td>\n",
              "            <td>Robert De Niro</td>\n",
              "            <td>House of Gucci</td>\n",
              "        </tr>\n",
              "    </tbody>\n",
              "</table>"
            ],
            "text/plain": [
              "[('Marlon Brando', 'Apocalypse Now', 'Marlon Brando', 'Apocalypse Now'),\n",
              " ('Marlon Brando', 'Apocalypse Now', 'Marlon Brando', 'The Godfather'),\n",
              " ('Al Pacino', 'The Godfather', 'Al Pacino', 'The Godfather'),\n",
              " ('Marlon Brando', 'The Godfather', 'Marlon Brando', 'Apocalypse Now'),\n",
              " ('Marlon Brando', 'The Godfather', 'Marlon Brando', 'The Godfather'),\n",
              " ('Robert De Niro', 'House of Gucci', 'Robert De Niro', 'House of Gucci')]"
            ]
          },
          "execution_count": 69,
          "metadata": {},
          "output_type": "execute_result"
        }
      ],
      "source": [
        "%%sql\n",
        "SELECT *\n",
        "FROM ActedIn AS a1\n",
        "JOIN ActedIn AS a2\n",
        "ON a1.actorname = a2.actorname;"
      ]
    },
    {
      "cell_type": "code",
      "execution_count": null,
      "metadata": {
        "colab": {
          "base_uri": "https://localhost:8080/",
          "height": 118
        },
        "id": "YwmtsKFhWIW5",
        "outputId": "cd879860-a4c4-447a-e76b-8f29af71b791"
      },
      "outputs": [
        {
          "name": "stdout",
          "output_type": "stream",
          "text": [
            " * sqlite:///dsc100.db\n",
            "Done.\n"
          ]
        },
        {
          "data": {
            "text/html": [
              "<table>\n",
              "    <thead>\n",
              "        <tr>\n",
              "            <th>actorname</th>\n",
              "            <th>moviename</th>\n",
              "            <th>actorname_1</th>\n",
              "            <th>moviename_1</th>\n",
              "        </tr>\n",
              "    </thead>\n",
              "    <tbody>\n",
              "        <tr>\n",
              "            <td>Marlon Brando</td>\n",
              "            <td>Apocalypse Now</td>\n",
              "            <td>Marlon Brando</td>\n",
              "            <td>Apocalypse Now</td>\n",
              "        </tr>\n",
              "        <tr>\n",
              "            <td>Marlon Brando</td>\n",
              "            <td>Apocalypse Now</td>\n",
              "            <td>Marlon Brando</td>\n",
              "            <td>The Godfather</td>\n",
              "        </tr>\n",
              "    </tbody>\n",
              "</table>"
            ],
            "text/plain": [
              "[('Marlon Brando', 'Apocalypse Now', 'Marlon Brando', 'Apocalypse Now'),\n",
              " ('Marlon Brando', 'Apocalypse Now', 'Marlon Brando', 'The Godfather')]"
            ]
          },
          "execution_count": 62,
          "metadata": {},
          "output_type": "execute_result"
        }
      ],
      "source": [
        "%%sql\n",
        "SELECT *\n",
        "FROM ActedIn AS a1\n",
        "JOIN ActedIn AS a2\n",
        "ON a1.actorname = a2.actorname\n",
        "WHERE a1.moviename='Apocalypse Now';"
      ]
    },
    {
      "cell_type": "code",
      "execution_count": null,
      "metadata": {
        "colab": {
          "base_uri": "https://localhost:8080/",
          "height": 97
        },
        "id": "yW54Qwz7WX-l",
        "outputId": "a45e465c-d75c-4fd2-d034-0b226915b69e"
      },
      "outputs": [
        {
          "name": "stdout",
          "output_type": "stream",
          "text": [
            " * sqlite:///dsc100.db\n",
            "Done.\n"
          ]
        },
        {
          "data": {
            "text/html": [
              "<table>\n",
              "    <thead>\n",
              "        <tr>\n",
              "            <th>actorname</th>\n",
              "        </tr>\n",
              "    </thead>\n",
              "    <tbody>\n",
              "        <tr>\n",
              "            <td>Marlon Brando</td>\n",
              "        </tr>\n",
              "    </tbody>\n",
              "</table>"
            ],
            "text/plain": [
              "[('Marlon Brando',)]"
            ]
          },
          "execution_count": 71,
          "metadata": {},
          "output_type": "execute_result"
        }
      ],
      "source": [
        "%%sql\n",
        "SELECT a1.actorname\n",
        "FROM ActedIn AS a1\n",
        "JOIN ActedIn AS a2\n",
        "ON a1.actorname = a2.actorname\n",
        "WHERE a1.moviename='Apocalypse Now' AND a2.moviename='The Godfather';"
      ]
    },
    {
      "cell_type": "code",
      "execution_count": null,
      "metadata": {
        "colab": {
          "base_uri": "https://localhost:8080/",
          "height": 97
        },
        "id": "fzgiZFBUUYMa",
        "outputId": "5ac183bc-741d-4b8c-cf80-39c9e49c6a33"
      },
      "outputs": [
        {
          "name": "stdout",
          "output_type": "stream",
          "text": [
            " * sqlite:///dsc100.db\n",
            "Done.\n"
          ]
        },
        {
          "data": {
            "text/html": [
              "<table>\n",
              "    <thead>\n",
              "        <tr>\n",
              "            <th>actorname</th>\n",
              "            <th>moviename</th>\n",
              "            <th>actorname_1</th>\n",
              "            <th>moviename_1</th>\n",
              "        </tr>\n",
              "    </thead>\n",
              "    <tbody>\n",
              "        <tr>\n",
              "            <td>Marlon Brando</td>\n",
              "            <td>Apocalypse Now</td>\n",
              "            <td>Marlon Brando</td>\n",
              "            <td>The Godfather</td>\n",
              "        </tr>\n",
              "    </tbody>\n",
              "</table>"
            ],
            "text/plain": [
              "[('Marlon Brando', 'Apocalypse Now', 'Marlon Brando', 'The Godfather')]"
            ]
          },
          "execution_count": 72,
          "metadata": {},
          "output_type": "execute_result"
        }
      ],
      "source": [
        "%%sql\n",
        "SELECT *\n",
        "FROM ActedIn AS a1\n",
        "JOIN ActedIn AS a2\n",
        "ON a1.actorname = a2.actorname\n",
        "WHERE a1.moviename='Apocalypse Now' AND a2.moviename='The Godfather';"
      ]
    },
    {
      "cell_type": "code",
      "execution_count": null,
      "metadata": {
        "colab": {
          "base_uri": "https://localhost:8080/"
        },
        "id": "S0SCzv4MW9Fq",
        "outputId": "3145889a-26dd-4ab7-8ae4-33bb1ba63350"
      },
      "outputs": [
        {
          "name": "stdout",
          "output_type": "stream",
          "text": [
            " * sqlite:///dsc100.db\n",
            "(sqlite3.OperationalError) ambiguous column name: actorname\n",
            "[SQL: SELECT actorname\n",
            "FROM ActedIn AS a1\n",
            "JOIN ActedIn AS a2\n",
            "ON a1.actorname = a2.actorname\n",
            "WHERE a1.moviename='Apocalypse Now' AND a2.moviename='The Godfather';]\n",
            "(Background on this error at: https://sqlalche.me/e/14/e3q8)\n"
          ]
        }
      ],
      "source": [
        "%%sql\n",
        "SELECT actorname\n",
        "FROM ActedIn AS a1\n",
        "JOIN ActedIn AS a2\n",
        "ON a1.actorname = a2.actorname\n",
        "WHERE a1.moviename='Apocalypse Now' AND a2.moviename='The Godfather';"
      ]
    },
    {
      "cell_type": "code",
      "execution_count": null,
      "metadata": {
        "colab": {
          "base_uri": "https://localhost:8080/",
          "height": 97
        },
        "id": "eCvGjLUdW_kJ",
        "outputId": "30d4bb61-3e64-41e8-c10d-8dd948585d71"
      },
      "outputs": [
        {
          "name": "stdout",
          "output_type": "stream",
          "text": [
            " * sqlite:///dsc100.db\n",
            "Done.\n"
          ]
        },
        {
          "data": {
            "text/html": [
              "<table>\n",
              "    <thead>\n",
              "        <tr>\n",
              "            <th>actorname</th>\n",
              "        </tr>\n",
              "    </thead>\n",
              "    <tbody>\n",
              "        <tr>\n",
              "            <td>Marlon Brando</td>\n",
              "        </tr>\n",
              "    </tbody>\n",
              "</table>"
            ],
            "text/plain": [
              "[('Marlon Brando',)]"
            ]
          },
          "execution_count": 75,
          "metadata": {},
          "output_type": "execute_result"
        }
      ],
      "source": [
        "%%sql\n",
        "SELECT a2.actorname\n",
        "FROM ActedIn AS a1\n",
        "JOIN ActedIn AS a2\n",
        "ON a1.actorname = a2.actorname\n",
        "WHERE a1.moviename='Apocalypse Now' AND a2.moviename='The Godfather';"
      ]
    },
    {
      "cell_type": "markdown",
      "metadata": {
        "id": "gUOouiEvVZpN"
      },
      "source": [
        "Retrieve all actor names that have acted in at least one movie in both ‘Crime’ and ‘War’ categories."
      ]
    },
    {
      "cell_type": "code",
      "execution_count": null,
      "metadata": {
        "colab": {
          "base_uri": "https://localhost:8080/",
          "height": 75
        },
        "id": "xTJFuzknuBOq",
        "outputId": "0d55a4f2-bb24-4db5-ab08-74cc036a3851"
      },
      "outputs": [
        {
          "name": "stdout",
          "output_type": "stream",
          "text": [
            " * sqlite:///dsc100.db\n",
            "Done.\n"
          ]
        },
        {
          "data": {
            "text/html": [
              "<table>\n",
              "    <thead>\n",
              "        <tr>\n",
              "            <th>actorname</th>\n",
              "        </tr>\n",
              "    </thead>\n",
              "    <tbody>\n",
              "    </tbody>\n",
              "</table>"
            ],
            "text/plain": [
              "[]"
            ]
          },
          "execution_count": 76,
          "metadata": {},
          "output_type": "execute_result"
        }
      ],
      "source": [
        "%%sql\n",
        "-- is this correct?\n",
        "SELECT DISTINCT actorname\n",
        "FROM   Movie, ActedIN\n",
        "WHERE  Movie.name= ActedIN.moviename AND (Movie.genre='Crime' AND Movie.genre= 'War');\n"
      ]
    },
    {
      "cell_type": "code",
      "execution_count": null,
      "metadata": {
        "colab": {
          "base_uri": "https://localhost:8080/",
          "height": 140
        },
        "id": "pGH4KBpXuFOq",
        "outputId": "7be7a2fa-a078-47cb-e4ee-930baf373db3"
      },
      "outputs": [
        {
          "name": "stdout",
          "output_type": "stream",
          "text": [
            " * sqlite:///dsc100.db\n",
            "Done.\n"
          ]
        },
        {
          "data": {
            "text/html": [
              "<table>\n",
              "    <thead>\n",
              "        <tr>\n",
              "            <th>actorname</th>\n",
              "        </tr>\n",
              "    </thead>\n",
              "    <tbody>\n",
              "        <tr>\n",
              "            <td>Al Pacino</td>\n",
              "        </tr>\n",
              "        <tr>\n",
              "            <td>Marlon Brando</td>\n",
              "        </tr>\n",
              "        <tr>\n",
              "            <td>Robert De Niro</td>\n",
              "        </tr>\n",
              "    </tbody>\n",
              "</table>"
            ],
            "text/plain": [
              "[('Al Pacino',), ('Marlon Brando',), ('Robert De Niro',)]"
            ]
          },
          "execution_count": 77,
          "metadata": {},
          "output_type": "execute_result"
        }
      ],
      "source": [
        "%%sql\n",
        "-- how about this one?\n",
        "SELECT DISTINCT actorname\n",
        "FROM   Movie, ActedIN\n",
        "WHERE  Movie.name= ActedIN.moviename AND (Movie.genre='Crime' OR Movie.genre= 'War');\n",
        "\n"
      ]
    },
    {
      "cell_type": "code",
      "execution_count": null,
      "metadata": {
        "colab": {
          "base_uri": "https://localhost:8080/",
          "height": 75
        },
        "id": "tzGWT33iuHh5",
        "outputId": "7e02f690-99ef-4d78-8af0-785a009694c8"
      },
      "outputs": [
        {
          "name": "stdout",
          "output_type": "stream",
          "text": [
            " * sqlite:///dsc100.db\n",
            "Done.\n"
          ]
        },
        {
          "data": {
            "text/html": [
              "<table>\n",
              "    <thead>\n",
              "        <tr>\n",
              "            <th>actorname</th>\n",
              "        </tr>\n",
              "    </thead>\n",
              "    <tbody>\n",
              "    </tbody>\n",
              "</table>"
            ],
            "text/plain": [
              "[]"
            ]
          },
          "execution_count": 78,
          "metadata": {},
          "output_type": "execute_result"
        }
      ],
      "source": [
        "%%sql\n",
        "-- using  self-join: attempt 1\n",
        "\n",
        "SELECT DISTINCT z.actorname\n",
        "FROM   Movie x, Movie y, ActedIN z\n",
        "WHERE  x.name= z.moviename\n",
        "AND    y.name= z.moviename  AND\n",
        "       x.genre='Crime' AND y.genre='War';"
      ]
    },
    {
      "cell_type": "code",
      "execution_count": null,
      "metadata": {
        "colab": {
          "base_uri": "https://localhost:8080/",
          "height": 97
        },
        "id": "C2hqBE-ruJeQ",
        "outputId": "58e7dbc5-08cc-458e-d451-d29a241924ac"
      },
      "outputs": [
        {
          "name": "stdout",
          "output_type": "stream",
          "text": [
            " * sqlite:///dsc100.db\n",
            "Done.\n"
          ]
        },
        {
          "data": {
            "text/html": [
              "<table>\n",
              "    <thead>\n",
              "        <tr>\n",
              "            <th>actorname</th>\n",
              "        </tr>\n",
              "    </thead>\n",
              "    <tbody>\n",
              "        <tr>\n",
              "            <td>Marlon Brando</td>\n",
              "        </tr>\n",
              "    </tbody>\n",
              "</table>"
            ],
            "text/plain": [
              "[('Marlon Brando',)]"
            ]
          },
          "execution_count": 79,
          "metadata": {},
          "output_type": "execute_result"
        }
      ],
      "source": [
        "%%sql\n",
        "-- using  self-join: attempt 2\n",
        "\n",
        "SELECT DISTINCT z.actorname\n",
        "FROM   Movie x, Movie y, ActedIN z, ActedIN w\n",
        "WHERE  x.name= z.moviename\n",
        "AND    y.name= w.moviename\n",
        "AND    z.actorname=w.actorname AND\n",
        "       x.genre='Crime' AND y.genre='War';"
      ]
    },
    {
      "cell_type": "code",
      "execution_count": null,
      "metadata": {
        "colab": {
          "base_uri": "https://localhost:8080/",
          "height": 97
        },
        "id": "5sKVwivUuM1i",
        "outputId": "9a7c3198-74ea-4e1b-f7a1-dca04b4110ac"
      },
      "outputs": [
        {
          "name": "stdout",
          "output_type": "stream",
          "text": [
            " * sqlite:///dsc100.db\n",
            "Done.\n"
          ]
        },
        {
          "data": {
            "text/html": [
              "<table>\n",
              "    <thead>\n",
              "        <tr>\n",
              "            <th>name</th>\n",
              "            <th>year</th>\n",
              "            <th>genre</th>\n",
              "            <th>name_1</th>\n",
              "            <th>year_1</th>\n",
              "            <th>genre_1</th>\n",
              "            <th>actorname</th>\n",
              "            <th>moviename</th>\n",
              "            <th>actorname_1</th>\n",
              "            <th>moviename_1</th>\n",
              "        </tr>\n",
              "    </thead>\n",
              "    <tbody>\n",
              "        <tr>\n",
              "            <td>The Godfather</td>\n",
              "            <td>1972</td>\n",
              "            <td>Crime</td>\n",
              "            <td>Apocalypse Now</td>\n",
              "            <td>1979</td>\n",
              "            <td>War</td>\n",
              "            <td>Marlon Brando</td>\n",
              "            <td>The Godfather</td>\n",
              "            <td>Marlon Brando</td>\n",
              "            <td>Apocalypse Now</td>\n",
              "        </tr>\n",
              "    </tbody>\n",
              "</table>"
            ],
            "text/plain": [
              "[('The Godfather', 1972, 'Crime', 'Apocalypse Now', 1979, 'War', 'Marlon Brando', 'The Godfather', 'Marlon Brando', 'Apocalypse Now')]"
            ]
          },
          "execution_count": 82,
          "metadata": {},
          "output_type": "execute_result"
        }
      ],
      "source": [
        "%%sql\n",
        "SELECT *\n",
        "FROM   Movie x, Movie y, ActedIN z, ActedIN w\n",
        "WHERE  x.name= z.moviename\n",
        "AND    y.name= w.moviename\n",
        "AND    z.actorname=w.actorname AND\n",
        "       x.genre='Crime' AND y.genre='War';\n"
      ]
    },
    {
      "cell_type": "markdown",
      "metadata": {
        "id": "p5d6Z4evVmCs"
      },
      "source": [
        "Retrieve ALL movie names, their genres and their actors that produced after 1975."
      ]
    },
    {
      "cell_type": "code",
      "execution_count": null,
      "metadata": {
        "colab": {
          "base_uri": "https://localhost:8080/",
          "height": 136
        },
        "id": "I6Nxq5ytuPCZ",
        "outputId": "e2731de3-0960-46af-d4cc-d057a215f2d0"
      },
      "outputs": [
        {
          "name": "stdout",
          "output_type": "stream",
          "text": [
            "   sqlite:///dsc100.db\n",
            " * sqlite:///test.db\n",
            "Done.\n"
          ]
        },
        {
          "data": {
            "text/html": [
              "<table>\n",
              "    <thead>\n",
              "        <tr>\n",
              "            <th>name</th>\n",
              "            <th>genre</th>\n",
              "            <th>actorname</th>\n",
              "        </tr>\n",
              "    </thead>\n",
              "    <tbody>\n",
              "        <tr>\n",
              "            <td>Apocalypse Now</td>\n",
              "            <td>War</td>\n",
              "            <td>Marlon Brando</td>\n",
              "        </tr>\n",
              "        <tr>\n",
              "            <td>House of Gucci</td>\n",
              "            <td>Crime</td>\n",
              "            <td>Robert De Niro</td>\n",
              "        </tr>\n",
              "    </tbody>\n",
              "</table>"
            ],
            "text/plain": [
              "[('Apocalypse Now', 'War', 'Marlon Brando'),\n",
              " ('House of Gucci', 'Crime', 'Robert De Niro')]"
            ]
          },
          "execution_count": 155,
          "metadata": {},
          "output_type": "execute_result"
        }
      ],
      "source": [
        "%%sql\n",
        "\n",
        "-- what's wrong with the following?\n",
        "\n",
        "SELECT DISTINCT  name, genre, actorname\n",
        "FROM   Movie Join ActedIN\n",
        "WHERE  Movie.name= ActedIN.moviename AND Movie.year> 1975;"
      ]
    },
    {
      "cell_type": "code",
      "execution_count": null,
      "metadata": {
        "colab": {
          "base_uri": "https://localhost:8080/",
          "height": 179
        },
        "id": "WHMZub9ruSox",
        "outputId": "d26cdba3-6ca6-497d-8de6-4577642af555"
      },
      "outputs": [
        {
          "name": "stdout",
          "output_type": "stream",
          "text": [
            "   sqlite:///dsc100.db\n",
            " * sqlite:///test.db\n",
            "Done.\n"
          ]
        },
        {
          "data": {
            "text/html": [
              "<table>\n",
              "    <thead>\n",
              "        <tr>\n",
              "            <th>name</th>\n",
              "            <th>year</th>\n",
              "            <th>genre</th>\n",
              "            <th>actorname</th>\n",
              "            <th>moviename</th>\n",
              "        </tr>\n",
              "    </thead>\n",
              "    <tbody>\n",
              "        <tr>\n",
              "            <td>Apocalypse Now</td>\n",
              "            <td>1979</td>\n",
              "            <td>War</td>\n",
              "            <td>Marlon Brando</td>\n",
              "            <td>Apocalypse Now</td>\n",
              "        </tr>\n",
              "        <tr>\n",
              "            <td>The Godfather</td>\n",
              "            <td>1972</td>\n",
              "            <td>Crime</td>\n",
              "            <td>None</td>\n",
              "            <td>None</td>\n",
              "        </tr>\n",
              "        <tr>\n",
              "            <td>Planet Earth II</td>\n",
              "            <td>2016</td>\n",
              "            <td>Nature Documentary</td>\n",
              "            <td>None</td>\n",
              "            <td>None</td>\n",
              "        </tr>\n",
              "        <tr>\n",
              "            <td>House of Gucci</td>\n",
              "            <td>2021</td>\n",
              "            <td>Crime</td>\n",
              "            <td>Robert De Niro</td>\n",
              "            <td>House of Gucci</td>\n",
              "        </tr>\n",
              "    </tbody>\n",
              "</table>"
            ],
            "text/plain": [
              "[('Apocalypse Now', 1979, 'War', 'Marlon Brando', 'Apocalypse Now'),\n",
              " ('The Godfather', 1972, 'Crime', None, None),\n",
              " ('Planet Earth II', 2016, 'Nature Documentary', None, None),\n",
              " ('House of Gucci', 2021, 'Crime', 'Robert De Niro', 'House of Gucci')]"
            ]
          },
          "execution_count": 157,
          "metadata": {},
          "output_type": "execute_result"
        }
      ],
      "source": [
        "%%sql\n",
        "-- we need outer-join\n",
        "SELECT   * FROM   Movie LEFT OUTER JOIN ActedIN\n",
        "on  Movie.name= ActedIN.moviename AND Movie.year> 1975;"
      ]
    },
    {
      "cell_type": "code",
      "execution_count": null,
      "metadata": {
        "colab": {
          "base_uri": "https://localhost:8080/",
          "height": 136
        },
        "id": "tRhYG2LZuV8D",
        "outputId": "72c90033-c234-44d7-e8c1-2565f279ec6f"
      },
      "outputs": [
        {
          "name": "stdout",
          "output_type": "stream",
          "text": [
            "   sqlite:///dsc100.db\n",
            " * sqlite:///test.db\n",
            "Done.\n"
          ]
        },
        {
          "data": {
            "text/html": [
              "<table>\n",
              "    <thead>\n",
              "        <tr>\n",
              "            <th>name</th>\n",
              "            <th>year</th>\n",
              "            <th>genre</th>\n",
              "            <th>actorname</th>\n",
              "            <th>moviename</th>\n",
              "        </tr>\n",
              "    </thead>\n",
              "    <tbody>\n",
              "        <tr>\n",
              "            <td>Apocalypse Now</td>\n",
              "            <td>1979</td>\n",
              "            <td>War</td>\n",
              "            <td>Marlon Brando</td>\n",
              "            <td>Apocalypse Now</td>\n",
              "        </tr>\n",
              "        <tr>\n",
              "            <td>House of Gucci</td>\n",
              "            <td>2021</td>\n",
              "            <td>Crime</td>\n",
              "            <td>Robert De Niro</td>\n",
              "            <td>House of Gucci</td>\n",
              "        </tr>\n",
              "    </tbody>\n",
              "</table>"
            ],
            "text/plain": [
              "[('Apocalypse Now', 1979, 'War', 'Marlon Brando', 'Apocalypse Now'),\n",
              " ('House of Gucci', 2021, 'Crime', 'Robert De Niro', 'House of Gucci')]"
            ]
          },
          "execution_count": 158,
          "metadata": {},
          "output_type": "execute_result"
        }
      ],
      "source": [
        "%%sql\n",
        "SELECT   * FROM   Movie\n",
        "LEFT OUTER JOIN ActedIN\n",
        "WHERE  Movie.name= ActedIN.moviename AND Movie.year> 1975;"
      ]
    },
    {
      "cell_type": "code",
      "execution_count": null,
      "metadata": {
        "colab": {
          "base_uri": "https://localhost:8080/",
          "height": 118
        },
        "id": "uaqHe6H0uXf0",
        "outputId": "75b94dcf-4ca7-4f84-c3c8-c6a68e3a24dd"
      },
      "outputs": [
        {
          "name": "stdout",
          "output_type": "stream",
          "text": [
            " * sqlite:///dsc100.db\n",
            "Done.\n"
          ]
        },
        {
          "data": {
            "text/html": [
              "<table>\n",
              "    <thead>\n",
              "        <tr>\n",
              "            <th>name</th>\n",
              "            <th>year</th>\n",
              "            <th>genre</th>\n",
              "            <th>actorname</th>\n",
              "            <th>moviename</th>\n",
              "        </tr>\n",
              "    </thead>\n",
              "    <tbody>\n",
              "        <tr>\n",
              "            <td>Apocalypse Now</td>\n",
              "            <td>1979</td>\n",
              "            <td>War</td>\n",
              "            <td>Marlon Brando</td>\n",
              "            <td>Apocalypse Now</td>\n",
              "        </tr>\n",
              "        <tr>\n",
              "            <td>House of Gucci</td>\n",
              "            <td>2021</td>\n",
              "            <td>Crime</td>\n",
              "            <td>Robert De Niro</td>\n",
              "            <td>House of Gucci</td>\n",
              "        </tr>\n",
              "    </tbody>\n",
              "</table>"
            ],
            "text/plain": [
              "[('Apocalypse Now', 1979, 'War', 'Marlon Brando', 'Apocalypse Now'),\n",
              " ('House of Gucci', 2021, 'Crime', 'Robert De Niro', 'House of Gucci')]"
            ]
          },
          "execution_count": 89,
          "metadata": {},
          "output_type": "execute_result"
        }
      ],
      "source": [
        "%%sql\n",
        "SELECT   * FROM   Movie JOIN ActedIN on  Movie.name= ActedIN.moviename WHERE Movie.year> 1975;\n"
      ]
    },
    {
      "cell_type": "code",
      "execution_count": null,
      "metadata": {
        "colab": {
          "base_uri": "https://localhost:8080/",
          "height": 118
        },
        "id": "KLrRStKXuZel",
        "outputId": "2f807b72-f334-4f32-9277-22c9e6d275c0"
      },
      "outputs": [
        {
          "name": "stdout",
          "output_type": "stream",
          "text": [
            " * sqlite:///dsc100.db\n",
            "Done.\n"
          ]
        },
        {
          "data": {
            "text/html": [
              "<table>\n",
              "    <thead>\n",
              "        <tr>\n",
              "            <th>name</th>\n",
              "            <th>year</th>\n",
              "            <th>genre</th>\n",
              "            <th>actorname</th>\n",
              "            <th>moviename</th>\n",
              "        </tr>\n",
              "    </thead>\n",
              "    <tbody>\n",
              "        <tr>\n",
              "            <td>Apocalypse Now</td>\n",
              "            <td>1979</td>\n",
              "            <td>War</td>\n",
              "            <td>Marlon Brando</td>\n",
              "            <td>Apocalypse Now</td>\n",
              "        </tr>\n",
              "        <tr>\n",
              "            <td>House of Gucci</td>\n",
              "            <td>2021</td>\n",
              "            <td>Crime</td>\n",
              "            <td>Robert De Niro</td>\n",
              "            <td>House of Gucci</td>\n",
              "        </tr>\n",
              "    </tbody>\n",
              "</table>"
            ],
            "text/plain": [
              "[('Apocalypse Now', 1979, 'War', 'Marlon Brando', 'Apocalypse Now'),\n",
              " ('House of Gucci', 2021, 'Crime', 'Robert De Niro', 'House of Gucci')]"
            ]
          },
          "execution_count": 90,
          "metadata": {},
          "output_type": "execute_result"
        }
      ],
      "source": [
        "%%sql\n",
        "SELECT   * FROM   Movie JOIN ActedIN WHERE Movie.name= ActedIN.moviename AND Movie.year> 1975;\n"
      ]
    },
    {
      "cell_type": "markdown",
      "metadata": {
        "id": "FtFZU_oSYL-T"
      },
      "source": []
    },
    {
      "cell_type": "markdown",
      "metadata": {
        "id": "n3z8WM5hX_RZ"
      },
      "source": [
        "Here is another example that illustrates outer joins:\n",
        "\n",
        "Let's start with two tables: Employee(id, name) and Sales(employeeID, productID)\n",
        "The tables have the following content\n",
        "(1,'Joe')         (1, 344)\n",
        "(2,'Jack')        (1, 355)\n",
        "(3,'Gill')        (2, 544)\n",
        "If we run a simple join, Gill will not appear in the result because she did not make any sells. If we run a left outer-join, Gill will be returned with a null sale. We can similarly do right outer joins and full outer joins (but not in sqlite)"
      ]
    },
    {
      "cell_type": "code",
      "execution_count": null,
      "metadata": {
        "colab": {
          "base_uri": "https://localhost:8080/"
        },
        "id": "1OCudYEBX2zq",
        "outputId": "014dd46b-5c82-4b00-c330-27de4e11e1fb"
      },
      "outputs": [
        {
          "name": "stdout",
          "output_type": "stream",
          "text": [
            " * sqlite:///dsc100.db\n",
            "Done.\n",
            "Done.\n",
            "Done.\n",
            "Done.\n",
            "1 rows affected.\n",
            "1 rows affected.\n",
            "1 rows affected.\n",
            "1 rows affected.\n",
            "1 rows affected.\n",
            "1 rows affected.\n"
          ]
        },
        {
          "data": {
            "text/plain": [
              "[]"
            ]
          },
          "execution_count": 94,
          "metadata": {},
          "output_type": "execute_result"
        }
      ],
      "source": [
        "%%sql\n",
        "DROP TABLE Employee;\n",
        "DROP TABLE Sales;\n",
        "CREATE TABLE Employee (\n",
        "    id INT,\n",
        "    name VARCHAR(10)\n",
        ");\n",
        "\n",
        "CREATE TABLE Sales (\n",
        "    employeeID INT,\n",
        "    productID INT\n",
        ");\n",
        "\n",
        "INSERT INTO Employee VALUES (1,'Joe');\n",
        "INSERT INTO Employee VALUES (2,'Jack');\n",
        "INSERT INTO Employee VALUES (3,'Gill');\n",
        "\n",
        "INSERT INTO Sales VALUES (1,344);\n",
        "INSERT INTO Sales VALUES (1,355);\n",
        "INSERT INTO Sales VALUES (2,544);\n"
      ]
    },
    {
      "cell_type": "code",
      "execution_count": null,
      "metadata": {
        "id": "jRdZlSQXZFt0"
      },
      "outputs": [],
      "source": []
    },
    {
      "cell_type": "code",
      "execution_count": null,
      "metadata": {
        "colab": {
          "base_uri": "https://localhost:8080/",
          "height": 140
        },
        "id": "xztp_wAdY0aS",
        "outputId": "f8026a38-0901-425d-f2a3-8d8bda2c7bdf"
      },
      "outputs": [
        {
          "name": "stdout",
          "output_type": "stream",
          "text": [
            " * sqlite:///dsc100.db\n",
            "Done.\n"
          ]
        },
        {
          "data": {
            "text/html": [
              "<table>\n",
              "    <thead>\n",
              "        <tr>\n",
              "            <th>id</th>\n",
              "            <th>name</th>\n",
              "            <th>employeeID</th>\n",
              "            <th>productID</th>\n",
              "        </tr>\n",
              "    </thead>\n",
              "    <tbody>\n",
              "        <tr>\n",
              "            <td>1</td>\n",
              "            <td>Joe</td>\n",
              "            <td>1</td>\n",
              "            <td>344</td>\n",
              "        </tr>\n",
              "        <tr>\n",
              "            <td>1</td>\n",
              "            <td>Joe</td>\n",
              "            <td>1</td>\n",
              "            <td>355</td>\n",
              "        </tr>\n",
              "        <tr>\n",
              "            <td>2</td>\n",
              "            <td>Jack</td>\n",
              "            <td>2</td>\n",
              "            <td>544</td>\n",
              "        </tr>\n",
              "    </tbody>\n",
              "</table>"
            ],
            "text/plain": [
              "[(1, 'Joe', 1, 344), (1, 'Joe', 1, 355), (2, 'Jack', 2, 544)]"
            ]
          },
          "execution_count": 95,
          "metadata": {},
          "output_type": "execute_result"
        }
      ],
      "source": [
        "%%sql\n",
        "SELECT *\n",
        "FROM Employee E\n",
        "JOIN Sales S\n",
        "ON E.id = S.employeeID;\n"
      ]
    },
    {
      "cell_type": "code",
      "execution_count": null,
      "metadata": {
        "colab": {
          "base_uri": "https://localhost:8080/",
          "height": 140
        },
        "id": "Wlq8m7x-ZKAG",
        "outputId": "b2143be3-a666-4a70-c722-119f410275b9"
      },
      "outputs": [
        {
          "name": "stdout",
          "output_type": "stream",
          "text": [
            " * sqlite:///dsc100.db\n",
            "Done.\n"
          ]
        },
        {
          "data": {
            "text/html": [
              "<table>\n",
              "    <thead>\n",
              "        <tr>\n",
              "            <th>id</th>\n",
              "            <th>name</th>\n",
              "            <th>employeeID</th>\n",
              "            <th>productID</th>\n",
              "        </tr>\n",
              "    </thead>\n",
              "    <tbody>\n",
              "        <tr>\n",
              "            <td>1</td>\n",
              "            <td>Joe</td>\n",
              "            <td>1</td>\n",
              "            <td>344</td>\n",
              "        </tr>\n",
              "        <tr>\n",
              "            <td>1</td>\n",
              "            <td>Joe</td>\n",
              "            <td>1</td>\n",
              "            <td>355</td>\n",
              "        </tr>\n",
              "        <tr>\n",
              "            <td>2</td>\n",
              "            <td>Jack</td>\n",
              "            <td>2</td>\n",
              "            <td>544</td>\n",
              "        </tr>\n",
              "    </tbody>\n",
              "</table>"
            ],
            "text/plain": [
              "[(1, 'Joe', 1, 344), (1, 'Joe', 1, 355), (2, 'Jack', 2, 544)]"
            ]
          },
          "execution_count": 96,
          "metadata": {},
          "output_type": "execute_result"
        }
      ],
      "source": [
        "%%sql\n",
        "SELECT *\n",
        "FROM Employee E\n",
        "INNER JOIN Sales S\n",
        "ON E.id = S.employeeID;\n"
      ]
    },
    {
      "cell_type": "code",
      "execution_count": null,
      "metadata": {
        "colab": {
          "base_uri": "https://localhost:8080/",
          "height": 161
        },
        "id": "V8JgDrQ8ZTUd",
        "outputId": "0c535ff6-f5c8-400c-cd2c-88ab17a7c108"
      },
      "outputs": [
        {
          "name": "stdout",
          "output_type": "stream",
          "text": [
            " * sqlite:///dsc100.db\n",
            "Done.\n"
          ]
        },
        {
          "data": {
            "text/html": [
              "<table>\n",
              "    <thead>\n",
              "        <tr>\n",
              "            <th>id</th>\n",
              "            <th>name</th>\n",
              "            <th>employeeID</th>\n",
              "            <th>productID</th>\n",
              "        </tr>\n",
              "    </thead>\n",
              "    <tbody>\n",
              "        <tr>\n",
              "            <td>1</td>\n",
              "            <td>Joe</td>\n",
              "            <td>1</td>\n",
              "            <td>344</td>\n",
              "        </tr>\n",
              "        <tr>\n",
              "            <td>1</td>\n",
              "            <td>Joe</td>\n",
              "            <td>1</td>\n",
              "            <td>355</td>\n",
              "        </tr>\n",
              "        <tr>\n",
              "            <td>2</td>\n",
              "            <td>Jack</td>\n",
              "            <td>2</td>\n",
              "            <td>544</td>\n",
              "        </tr>\n",
              "        <tr>\n",
              "            <td>3</td>\n",
              "            <td>Gill</td>\n",
              "            <td>None</td>\n",
              "            <td>None</td>\n",
              "        </tr>\n",
              "    </tbody>\n",
              "</table>"
            ],
            "text/plain": [
              "[(1, 'Joe', 1, 344),\n",
              " (1, 'Joe', 1, 355),\n",
              " (2, 'Jack', 2, 544),\n",
              " (3, 'Gill', None, None)]"
            ]
          },
          "execution_count": 97,
          "metadata": {},
          "output_type": "execute_result"
        }
      ],
      "source": [
        "%%sql\n",
        "SELECT *\n",
        "FROM Employee E\n",
        "LEFT OUTER JOIN Sales S\n",
        "ON E.id = S.employeeID;\n"
      ]
    },
    {
      "cell_type": "markdown",
      "metadata": {
        "id": "k90jgl7gZnS5"
      },
      "source": [
        "Retrieve the product IDs of all products sold by 'Joe':"
      ]
    },
    {
      "cell_type": "code",
      "execution_count": null,
      "metadata": {
        "colab": {
          "base_uri": "https://localhost:8080/",
          "height": 118
        },
        "id": "VN9dBOzhZreJ",
        "outputId": "9191fd39-95a2-4796-8852-6e4a2b19b0bc"
      },
      "outputs": [
        {
          "name": "stdout",
          "output_type": "stream",
          "text": [
            " * sqlite:///dsc100.db\n",
            "Done.\n"
          ]
        },
        {
          "data": {
            "text/html": [
              "<table>\n",
              "    <thead>\n",
              "        <tr>\n",
              "            <th>productID</th>\n",
              "        </tr>\n",
              "    </thead>\n",
              "    <tbody>\n",
              "        <tr>\n",
              "            <td>344</td>\n",
              "        </tr>\n",
              "        <tr>\n",
              "            <td>355</td>\n",
              "        </tr>\n",
              "    </tbody>\n",
              "</table>"
            ],
            "text/plain": [
              "[(344,), (355,)]"
            ]
          },
          "execution_count": 98,
          "metadata": {},
          "output_type": "execute_result"
        }
      ],
      "source": [
        "%%sql\n",
        "SELECT Sales.productID\n",
        "FROM Sales\n",
        "JOIN Employee ON Sales.employeeID = Employee.id\n",
        "WHERE Employee.Name = 'Joe';\n"
      ]
    },
    {
      "cell_type": "code",
      "execution_count": null,
      "metadata": {
        "colab": {
          "base_uri": "https://localhost:8080/",
          "height": 97
        },
        "id": "dndHSerpaAFz",
        "outputId": "be6f712a-3b20-441c-f167-c1e0f290e3cf"
      },
      "outputs": [
        {
          "name": "stdout",
          "output_type": "stream",
          "text": [
            " * sqlite:///dsc100.db\n",
            "Done.\n"
          ]
        },
        {
          "data": {
            "text/html": [
              "<table>\n",
              "    <thead>\n",
              "        <tr>\n",
              "            <th>name</th>\n",
              "        </tr>\n",
              "    </thead>\n",
              "    <tbody>\n",
              "        <tr>\n",
              "            <td>Jack</td>\n",
              "        </tr>\n",
              "    </tbody>\n",
              "</table>"
            ],
            "text/plain": [
              "[('Jack',)]"
            ]
          },
          "execution_count": 99,
          "metadata": {},
          "output_type": "execute_result"
        }
      ],
      "source": [
        "%%sql\n",
        "SELECT E.name FROM Employee E\n",
        "INNER JOIN Sales S ON E.id = S.employeeID\n",
        "WHERE S.productID = 544;"
      ]
    },
    {
      "cell_type": "code",
      "execution_count": null,
      "metadata": {
        "colab": {
          "base_uri": "https://localhost:8080/",
          "height": 97
        },
        "id": "DqNCckX-aWy5",
        "outputId": "eb2e16f3-304d-4092-fc20-b4fffb498bb3"
      },
      "outputs": [
        {
          "name": "stdout",
          "output_type": "stream",
          "text": [
            " * sqlite:///dsc100.db\n",
            "Done.\n"
          ]
        },
        {
          "data": {
            "text/html": [
              "<table>\n",
              "    <thead>\n",
              "        <tr>\n",
              "            <th>name</th>\n",
              "        </tr>\n",
              "    </thead>\n",
              "    <tbody>\n",
              "        <tr>\n",
              "            <td>Joe</td>\n",
              "        </tr>\n",
              "    </tbody>\n",
              "</table>"
            ],
            "text/plain": [
              "[('Joe',)]"
            ]
          },
          "execution_count": 102,
          "metadata": {},
          "output_type": "execute_result"
        }
      ],
      "source": [
        "%%sql\n",
        "SELECT DISTINCT E.name\n",
        "FROM Employee E\n",
        "LEFT JOIN Sales S\n",
        "ON E.id = S.employeeID\n",
        "WHERE S.productID != 544;"
      ]
    },
    {
      "cell_type": "code",
      "execution_count": null,
      "metadata": {
        "colab": {
          "base_uri": "https://localhost:8080/",
          "height": 97
        },
        "id": "dkT3Qs3UahuW",
        "outputId": "f01cfe27-2df4-4df6-8daf-9fd193d280d2"
      },
      "outputs": [
        {
          "name": "stdout",
          "output_type": "stream",
          "text": [
            " * sqlite:///dsc100.db\n",
            "Done.\n"
          ]
        },
        {
          "data": {
            "text/html": [
              "<table>\n",
              "    <thead>\n",
              "        <tr>\n",
              "            <th>name</th>\n",
              "        </tr>\n",
              "    </thead>\n",
              "    <tbody>\n",
              "        <tr>\n",
              "            <td>Joe</td>\n",
              "        </tr>\n",
              "    </tbody>\n",
              "</table>"
            ],
            "text/plain": [
              "[('Joe',)]"
            ]
          },
          "execution_count": 104,
          "metadata": {},
          "output_type": "execute_result"
        }
      ],
      "source": [
        "%%sql\n",
        "SELECT DISTINCT E.name\n",
        "FROM Employee E\n",
        "LEFT OUTER JOIN Sales S\n",
        "ON E.id = S.employeeID\n",
        "WHERE S.productID != 544;"
      ]
    },
    {
      "cell_type": "markdown",
      "metadata": {
        "id": "inYamYvEaQfR"
      },
      "source": [
        "Retrieve the names of all employees who did not sell a specific product (product ID 544 in this example):\n"
      ]
    },
    {
      "cell_type": "code",
      "execution_count": null,
      "metadata": {
        "colab": {
          "base_uri": "https://localhost:8080/",
          "height": 118
        },
        "id": "hvqyn4PMaJwT",
        "outputId": "75b1e829-3ade-45f2-82b4-28941a4df6c3"
      },
      "outputs": [
        {
          "name": "stdout",
          "output_type": "stream",
          "text": [
            " * sqlite:///dsc100.db\n",
            "Done.\n"
          ]
        },
        {
          "data": {
            "text/html": [
              "<table>\n",
              "    <thead>\n",
              "        <tr>\n",
              "            <th>name</th>\n",
              "        </tr>\n",
              "    </thead>\n",
              "    <tbody>\n",
              "        <tr>\n",
              "            <td>Joe</td>\n",
              "        </tr>\n",
              "        <tr>\n",
              "            <td>Gill</td>\n",
              "        </tr>\n",
              "    </tbody>\n",
              "</table>"
            ],
            "text/plain": [
              "[('Joe',), ('Gill',)]"
            ]
          },
          "execution_count": 105,
          "metadata": {},
          "output_type": "execute_result"
        }
      ],
      "source": [
        "%%sql\n",
        "SELECT DISTINCT E.name\n",
        "FROM Employee E\n",
        "LEFT OUTER JOIN Sales S\n",
        "ON E.id = S.employeeID\n",
        "WHERE S.productID != 544 OR S.productID IS NULL;"
      ]
    },
    {
      "cell_type": "markdown",
      "metadata": {
        "id": "C8wMDaqqZ8Rh"
      },
      "source": [
        " Retrieve the names of all employees who sold a specific product (product ID 544 in this example):"
      ]
    },
    {
      "cell_type": "markdown",
      "metadata": {
        "id": "aCHuEyuknhV-"
      },
      "source": []
    },
    {
      "cell_type": "markdown",
      "metadata": {
        "id": "ZiyeCInQgQWO"
      },
      "source": []
    },
    {
      "cell_type": "markdown",
      "metadata": {
        "id": "y7wULReAfYoT"
      },
      "source": []
    }
  ],
  "metadata": {
    "colab": {
      "provenance": []
    },
    "kernelspec": {
      "display_name": "Python 3",
      "name": "python3"
    },
    "language_info": {
      "name": "python"
    }
  },
  "nbformat": 4,
  "nbformat_minor": 0
}
